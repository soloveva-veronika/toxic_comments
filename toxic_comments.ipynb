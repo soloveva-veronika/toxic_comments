{
 "cells": [
  {
   "cell_type": "markdown",
   "metadata": {
    "toc": true
   },
   "source": [
    "<h1>Содержание<span class=\"tocSkip\"></span></h1>\n",
    "<div class=\"toc\"><ul class=\"toc-item\"><li><span><a href=\"#Подготовка\" data-toc-modified-id=\"Подготовка-1\"><span class=\"toc-item-num\">1&nbsp;&nbsp;</span>Подготовка</a></span></li><li><span><a href=\"#Обучение\" data-toc-modified-id=\"Обучение-2\"><span class=\"toc-item-num\">2&nbsp;&nbsp;</span>Обучение</a></span></li><li><span><a href=\"#Выводы\" data-toc-modified-id=\"Выводы-3\"><span class=\"toc-item-num\">3&nbsp;&nbsp;</span>Выводы</a></span></li><li><span><a href=\"#Чек-лист-проверки\" data-toc-modified-id=\"Чек-лист-проверки-4\"><span class=\"toc-item-num\">4&nbsp;&nbsp;</span>Чек-лист проверки</a></span></li></ul></div>"
   ]
  },
  {
   "cell_type": "markdown",
   "metadata": {},
   "source": [
    "# Проект для «Викишоп»"
   ]
  },
  {
   "cell_type": "markdown",
   "metadata": {},
   "source": [
    "Интернет-магазин «Викишоп» запускает новый сервис. Теперь пользователи могут редактировать и дополнять описания товаров, как в вики-сообществах. То есть клиенты предлагают свои правки и комментируют изменения других. Магазину нужен инструмент, который будет искать токсичные комментарии и отправлять их на модерацию. \n",
    "\n",
    "Обучите модель классифицировать комментарии на позитивные и негативные. В вашем распоряжении набор данных с разметкой о токсичности правок.\n",
    "\n",
    "Постройте модель со значением метрики качества *F1* не меньше 0.75. \n",
    "\n",
    "**Инструкция по выполнению проекта**\n",
    "\n",
    "1. Загрузите и подготовьте данные.\n",
    "2. Обучите разные модели. \n",
    "3. Сделайте выводы.\n",
    "\n",
    "Для выполнения проекта применять *BERT* необязательно, но вы можете попробовать.\n",
    "\n",
    "**Описание данных**\n",
    "\n",
    "Данные находятся в файле `toxic_comments.csv`. Столбец *text* в нём содержит текст комментария, а *toxic* — целевой признак."
   ]
  },
  {
   "cell_type": "markdown",
   "metadata": {},
   "source": [
    "## Подготовка"
   ]
  },
  {
   "cell_type": "code",
   "execution_count": 1,
   "metadata": {},
   "outputs": [],
   "source": [
    "#!pip install langdetect --quiet\n",
    "#!pip install imbalanced-learn --quiet\n",
    "#!pip install spacy --quiet\n",
    "#!python -m spacy download en_core_web_sm --quiet"
   ]
  },
  {
   "cell_type": "code",
   "execution_count": 2,
   "metadata": {},
   "outputs": [],
   "source": [
    "import pandas as pd\n",
    "import numpy as np\n",
    "import matplotlib.pyplot as plt\n",
    "import seaborn as sns\n",
    "import re\n",
    "import nltk\n",
    "import spacy\n",
    "from nltk.corpus import stopwords as nltk_stopwords\n",
    "from sklearn.pipeline import Pipeline\n",
    "from nltk.stem import WordNetLemmatizer\n",
    "from langdetect import detect, LangDetectException\n",
    "from sklearn.linear_model import LogisticRegression\n",
    "from sklearn.metrics import roc_curve, auc, f1_score, roc_auc_score\n",
    "from sklearn.model_selection import train_test_split, GridSearchCV, cross_val_score\n",
    "from sklearn.feature_extraction.text import TfidfVectorizer\n",
    "from sklearn.tree import DecisionTreeClassifier\n",
    "from sklearn.ensemble import RandomForestClassifier, GradientBoostingClassifier\n",
    "from sklearn.utils import shuffle\n",
    "from imblearn.over_sampling import SMOTE\n",
    "from catboost import CatBoostClassifier\n",
    "\n",
    "# Определим константы\n",
    "RANDOM_STATE = 42\n",
    "CV_COUNTS = 3\n"
   ]
  },
  {
   "cell_type": "code",
   "execution_count": 3,
   "metadata": {},
   "outputs": [],
   "source": [
    "import pandas as pd\n",
    "import seaborn as sns\n",
    "import matplotlib.pyplot as plt\n",
    "from langdetect import detect\n",
    "from langdetect.lang_detect_exception import LangDetectException\n",
    "\n",
    "def data_overview_with_language_detection(df, target_column, text_column, sample_fraction=0.1):\n",
    "    \"\"\"\n",
    "    Функция для первичного обзора данных DataFrame, включая выборочное определение языков текста.\n",
    "    \n",
    "    Параметры:\n",
    "    - df: pandas DataFrame\n",
    "    - target_column: Название колонки с целевой переменной.\n",
    "    - text_column: Название колонки с текстовыми данными.\n",
    "    - sample_fraction: Доля строк, для которых будет определён язык (по умолчанию 10%).\n",
    "    \"\"\"\n",
    "    data = df.copy()\n",
    "    \n",
    "    # Первичный обзор данных\n",
    "    print(\"Форма данных:\", data.shape)\n",
    "    print(\"Первые 5 строк данных:\")\n",
    "    display(data.head())\n",
    "    \n",
    "    print(\"\\nОбщая информация о данных:\")\n",
    "    display(data.info())\n",
    "    \n",
    "    print(\"\\nОписание числовых данных:\")\n",
    "    display(data.describe())\n",
    "    \n",
    "    print(\"\\nКоличество пропущенных значений:\")\n",
    "    display(data.isnull().sum())\n",
    "    \n",
    "    print(\"\\nКоличество уникальных значений в каждом столбце:\")\n",
    "    display(data.nunique())\n",
    "    \n",
    "    # Проверка дубликатов\n",
    "    duplicate_count = data.duplicated().sum()\n",
    "    print(f\"\\nКоличество дубликатов: {duplicate_count}\")\n",
    "    if duplicate_count > 0:\n",
    "        print(\"Примеры дубликатов:\")\n",
    "        display(data[data.duplicated()].head())\n",
    "    \n",
    "    # Проверка сбалансированности классов\n",
    "    class_distribution = data[target_column].value_counts(normalize=True)\n",
    "    print(\"\\nСбалансированность классов:\")\n",
    "    display(class_distribution)\n",
    "    \n",
    "    # Распределение целевой переменной\n",
    "    plt.figure(figsize=(12, 6))\n",
    "    sns.countplot(x=target_column, data=data)\n",
    "    plt.title(\"Распределение целевой переменной\")\n",
    "    plt.xlabel(\"Классы\")\n",
    "    plt.ylabel(\"Частота\")\n",
    "    plt.xticks([0, 1], labels=['Not Toxic', 'Toxic'])\n",
    "    plt.show()\n",
    "    \n",
    "    # Вычисление и визуализация длины текста\n",
    "    data['text_length'] = data[text_column].str.strip().str.len()\n",
    "    print(f\"\\nМаксимальное количество символов в '{text_column}': {data['text_length'].max()}\")\n",
    "    print(f\"Минимальное количество символов в '{text_column}': {data['text_length'].min()}\")\n",
    "    \n",
    "    plt.figure(figsize=(12, 6))\n",
    "    sns.histplot(data['text_length'], bins=50, kde=True, color='blue')\n",
    "    plt.title(\"Распределение длины текста\")\n",
    "    plt.xlabel(\"Количество символов\")\n",
    "    plt.ylabel(\"Частота\")\n",
    "    plt.show()\n",
    "    \n",
    "    # Вычисление и визуализация количества слов\n",
    "    data['word_count'] = data[text_column].str.strip().str.split().str.len()  \n",
    "    print(f\"\\nКоличество слов в '{text_column}':\")\n",
    "    print(f\"Максимум: {data['word_count'].max()}\")\n",
    "    print(f\"Минимум: {data['word_count'].min()}\")\n",
    "    print(f\"Среднее: {data['word_count'].mean():.2f}\")\n",
    "    print(f\"Медиана: {data['word_count'].median()}\")\n",
    "    \n",
    "    plt.figure(figsize=(12, 6))\n",
    "    sns.histplot(data['word_count'], bins=50, kde=True, color='green')\n",
    "    plt.title(\"Распределение количества слов в тексте\")\n",
    "    plt.xlabel(\"Количество слов\")\n",
    "    plt.ylabel(\"Частота\")\n",
    "    plt.show()\n",
    "    \n",
    "    # Определение языка текста выборочно\n",
    "    def detect_language_safe(text):\n",
    "        \"\"\"Безопасное определение языка текста.\"\"\"\n",
    "        try:\n",
    "            if isinstance(text, str) and len(text.strip()) > 5:\n",
    "                return detect(text)\n",
    "            return 'unknown'\n",
    "        except LangDetectException:\n",
    "            return 'unknown'\n",
    "\n",
    "    print(\"\\nОпределение языков текста (выборочно):\")\n",
    "    sample_data = data.sample(frac=sample_fraction, random_state=42)\n",
    "    sample_data['detected_languages'] = sample_data[text_column].apply(detect_language_safe)\n",
    "    \n",
    "    language_counts = sample_data['detected_languages'].value_counts()\n",
    "    print(\"Распределение языков в выборке:\")\n",
    "    display(language_counts)\n",
    "    \n",
    "    # Построение графика распределения языков\n",
    "    plt.figure(figsize=(12, 6))\n",
    "    language_counts.plot(kind='bar', color='purple')\n",
    "    plt.title(\"Распределение языков в выборке текста\")\n",
    "    plt.xlabel(\"Язык\")\n",
    "    plt.ylabel(\"Количество\")\n",
    "    plt.xticks(rotation=90)\n",
    "    plt.show()\n",
    "    \n",
    "    return sample_data\n"
   ]
  },
  {
   "cell_type": "code",
   "execution_count": 29,
   "metadata": {},
   "outputs": [],
   "source": [
    "df = pd.read_csv('/datasets/toxic_comments.csv')"
   ]
  },
  {
   "cell_type": "code",
   "execution_count": 5,
   "metadata": {},
   "outputs": [
    {
     "name": "stdout",
     "output_type": "stream",
     "text": [
      "Форма данных: (159292, 3)\n",
      "Первые 5 строк данных:\n"
     ]
    },
    {
     "data": {
      "text/html": [
       "<div>\n",
       "<style scoped>\n",
       "    .dataframe tbody tr th:only-of-type {\n",
       "        vertical-align: middle;\n",
       "    }\n",
       "\n",
       "    .dataframe tbody tr th {\n",
       "        vertical-align: top;\n",
       "    }\n",
       "\n",
       "    .dataframe thead th {\n",
       "        text-align: right;\n",
       "    }\n",
       "</style>\n",
       "<table border=\"1\" class=\"dataframe\">\n",
       "  <thead>\n",
       "    <tr style=\"text-align: right;\">\n",
       "      <th></th>\n",
       "      <th>Unnamed: 0</th>\n",
       "      <th>text</th>\n",
       "      <th>toxic</th>\n",
       "    </tr>\n",
       "  </thead>\n",
       "  <tbody>\n",
       "    <tr>\n",
       "      <th>0</th>\n",
       "      <td>0</td>\n",
       "      <td>Explanation\\nWhy the edits made under my usern...</td>\n",
       "      <td>0</td>\n",
       "    </tr>\n",
       "    <tr>\n",
       "      <th>1</th>\n",
       "      <td>1</td>\n",
       "      <td>D'aww! He matches this background colour I'm s...</td>\n",
       "      <td>0</td>\n",
       "    </tr>\n",
       "    <tr>\n",
       "      <th>2</th>\n",
       "      <td>2</td>\n",
       "      <td>Hey man, I'm really not trying to edit war. It...</td>\n",
       "      <td>0</td>\n",
       "    </tr>\n",
       "    <tr>\n",
       "      <th>3</th>\n",
       "      <td>3</td>\n",
       "      <td>\"\\nMore\\nI can't make any real suggestions on ...</td>\n",
       "      <td>0</td>\n",
       "    </tr>\n",
       "    <tr>\n",
       "      <th>4</th>\n",
       "      <td>4</td>\n",
       "      <td>You, sir, are my hero. Any chance you remember...</td>\n",
       "      <td>0</td>\n",
       "    </tr>\n",
       "  </tbody>\n",
       "</table>\n",
       "</div>"
      ],
      "text/plain": [
       "   Unnamed: 0                                               text  toxic\n",
       "0           0  Explanation\\nWhy the edits made under my usern...      0\n",
       "1           1  D'aww! He matches this background colour I'm s...      0\n",
       "2           2  Hey man, I'm really not trying to edit war. It...      0\n",
       "3           3  \"\\nMore\\nI can't make any real suggestions on ...      0\n",
       "4           4  You, sir, are my hero. Any chance you remember...      0"
      ]
     },
     "metadata": {},
     "output_type": "display_data"
    },
    {
     "name": "stdout",
     "output_type": "stream",
     "text": [
      "\n",
      "Общая информация о данных:\n",
      "<class 'pandas.core.frame.DataFrame'>\n",
      "RangeIndex: 159292 entries, 0 to 159291\n",
      "Data columns (total 3 columns):\n",
      " #   Column      Non-Null Count   Dtype \n",
      "---  ------      --------------   ----- \n",
      " 0   Unnamed: 0  159292 non-null  int64 \n",
      " 1   text        159292 non-null  object\n",
      " 2   toxic       159292 non-null  int64 \n",
      "dtypes: int64(2), object(1)\n",
      "memory usage: 3.6+ MB\n"
     ]
    },
    {
     "data": {
      "text/plain": [
       "None"
      ]
     },
     "metadata": {},
     "output_type": "display_data"
    },
    {
     "name": "stdout",
     "output_type": "stream",
     "text": [
      "\n",
      "Описание числовых данных:\n"
     ]
    },
    {
     "data": {
      "text/html": [
       "<div>\n",
       "<style scoped>\n",
       "    .dataframe tbody tr th:only-of-type {\n",
       "        vertical-align: middle;\n",
       "    }\n",
       "\n",
       "    .dataframe tbody tr th {\n",
       "        vertical-align: top;\n",
       "    }\n",
       "\n",
       "    .dataframe thead th {\n",
       "        text-align: right;\n",
       "    }\n",
       "</style>\n",
       "<table border=\"1\" class=\"dataframe\">\n",
       "  <thead>\n",
       "    <tr style=\"text-align: right;\">\n",
       "      <th></th>\n",
       "      <th>Unnamed: 0</th>\n",
       "      <th>toxic</th>\n",
       "    </tr>\n",
       "  </thead>\n",
       "  <tbody>\n",
       "    <tr>\n",
       "      <th>count</th>\n",
       "      <td>159292.000000</td>\n",
       "      <td>159292.000000</td>\n",
       "    </tr>\n",
       "    <tr>\n",
       "      <th>mean</th>\n",
       "      <td>79725.697242</td>\n",
       "      <td>0.101612</td>\n",
       "    </tr>\n",
       "    <tr>\n",
       "      <th>std</th>\n",
       "      <td>46028.837471</td>\n",
       "      <td>0.302139</td>\n",
       "    </tr>\n",
       "    <tr>\n",
       "      <th>min</th>\n",
       "      <td>0.000000</td>\n",
       "      <td>0.000000</td>\n",
       "    </tr>\n",
       "    <tr>\n",
       "      <th>25%</th>\n",
       "      <td>39872.750000</td>\n",
       "      <td>0.000000</td>\n",
       "    </tr>\n",
       "    <tr>\n",
       "      <th>50%</th>\n",
       "      <td>79721.500000</td>\n",
       "      <td>0.000000</td>\n",
       "    </tr>\n",
       "    <tr>\n",
       "      <th>75%</th>\n",
       "      <td>119573.250000</td>\n",
       "      <td>0.000000</td>\n",
       "    </tr>\n",
       "    <tr>\n",
       "      <th>max</th>\n",
       "      <td>159450.000000</td>\n",
       "      <td>1.000000</td>\n",
       "    </tr>\n",
       "  </tbody>\n",
       "</table>\n",
       "</div>"
      ],
      "text/plain": [
       "          Unnamed: 0          toxic\n",
       "count  159292.000000  159292.000000\n",
       "mean    79725.697242       0.101612\n",
       "std     46028.837471       0.302139\n",
       "min         0.000000       0.000000\n",
       "25%     39872.750000       0.000000\n",
       "50%     79721.500000       0.000000\n",
       "75%    119573.250000       0.000000\n",
       "max    159450.000000       1.000000"
      ]
     },
     "metadata": {},
     "output_type": "display_data"
    },
    {
     "name": "stdout",
     "output_type": "stream",
     "text": [
      "\n",
      "Количество пропущенных значений:\n"
     ]
    },
    {
     "data": {
      "text/plain": [
       "Unnamed: 0    0\n",
       "text          0\n",
       "toxic         0\n",
       "dtype: int64"
      ]
     },
     "metadata": {},
     "output_type": "display_data"
    },
    {
     "name": "stdout",
     "output_type": "stream",
     "text": [
      "\n",
      "Количество уникальных значений в каждом столбце:\n"
     ]
    },
    {
     "data": {
      "text/plain": [
       "Unnamed: 0    159292\n",
       "text          159292\n",
       "toxic              2\n",
       "dtype: int64"
      ]
     },
     "metadata": {},
     "output_type": "display_data"
    },
    {
     "name": "stdout",
     "output_type": "stream",
     "text": [
      "\n",
      "Количество дубликатов: 0\n",
      "\n",
      "Сбалансированность классов:\n"
     ]
    },
    {
     "data": {
      "text/plain": [
       "0    0.898388\n",
       "1    0.101612\n",
       "Name: toxic, dtype: float64"
      ]
     },
     "metadata": {},
     "output_type": "display_data"
    },
    {
     "data": {
      "image/png": "[encoded data removed]",
      "text/plain": [
       "<Figure size 864x432 with 1 Axes>"
      ]
     },
     "metadata": {
      "needs_background": "light"
     },
     "output_type": "display_data"
    },
    {
     "name": "stdout",
     "output_type": "stream",
     "text": [
      "\n",
      "Максимальное количество символов в 'text': 5000\n",
      "Минимальное количество символов в 'text': 3\n"
     ]
    },
    {
     "data": {
      "image/png": "[encoded data removed]",
      "text/plain": [
       "<Figure size 864x432 with 1 Axes>"
      ]
     },
     "metadata": {
      "needs_background": "light"
     },
     "output_type": "display_data"
    },
    {
     "name": "stdout",
     "output_type": "stream",
     "text": [
      "\n",
      "Количество слов в 'text':\n",
      "Максимум: 1411\n",
      "Минимум: 1\n",
      "Среднее: 67.21\n",
      "Медиана: 36.0\n"
     ]
    },
    {
     "data": {
      "image/png": "[encoded data removed]",
      "text/plain": [
       "<Figure size 864x432 with 1 Axes>"
      ]
     },
     "metadata": {
      "needs_background": "light"
     },
     "output_type": "display_data"
    },
    {
     "name": "stdout",
     "output_type": "stream",
     "text": [
      "\n",
      "Определение языков текста (выборочно):\n",
      "Распределение языков в выборке:\n"
     ]
    },
    {
     "data": {
      "text/plain": [
       "en    15508\n",
       "de       62\n",
       "af       42\n",
       "fr       38\n",
       "id       35\n",
       "so       21\n",
       "cy       20\n",
       "et       20\n",
       "sv       16\n",
       "nl       16\n",
       "it       15\n",
       "da       15\n",
       "es       13\n",
       "no       12\n",
       "tl       12\n",
       "ro       10\n",
       "hu       10\n",
       "pt       10\n",
       "tr        9\n",
       "sw        8\n",
       "fi        7\n",
       "vi        6\n",
       "ca        4\n",
       "hr        4\n",
       "pl        4\n",
       "lt        3\n",
       "sk        3\n",
       "sq        3\n",
       "sl        2\n",
       "cs        1\n",
       "Name: detected_languages, dtype: int64"
      ]
     },
     "metadata": {},
     "output_type": "display_data"
    },
    {
     "data": {
      "image/png": "[encoded data removed]",
      "text/plain": [
       "<Figure size 864x432 with 1 Axes>"
      ]
     },
     "metadata": {
      "needs_background": "light"
     },
     "output_type": "display_data"
    }
   ],
   "source": [
    "sample_data = data_overview_with_language_detection(\n",
    "    df=df, \n",
    "    target_column='toxic', \n",
    "    text_column='text', \n",
    "    sample_fraction=0.1  # Выбор 10% строк\n",
    ")"
   ]
  },
  {
   "cell_type": "markdown",
   "metadata": {},
   "source": [
    "**Выводы**\n",
    "\n",
    "На основании проведенного анализа данных и первичной обработки можно сделать следующие выводы:\n",
    "\n",
    "**Общие характеристики данных:**\n",
    "- Набор данных содержит 159292 комментария, из которых 10.16% являются токсичными (метка `toxic` равна 1), а 89.84% — нетоксичными (метка `toxic` равна 0).\n",
    "- Данные не содержат пропущенных значений или дубликатов, что положительно сказывается на качестве модели.\n",
    "\n",
    "**Распределение классов:**\n",
    "- Наблюдается значительный дисбаланс между классами, что может повлиять на обучение модели. Это следует учитывать при выборе метрик оценки и возможно применять методы балансировки данных (например, oversampling для токсичных комментариев или undersampling для нетоксичных).\n",
    "\n",
    "**Статистика по тексту:**\n",
    "- Длина комментариев варьируется от 3 до 5000 символов, со средним значением в 67.21 символов и медианой 36 символов. Это свидетельствует о том, что многие комментарии относительно короткие.\n",
    "- Количество слов в комментариях также варьируется, от 1 до 1411 слов, с средним значением 67.21 и медианой 36. Это может указывать на то, что короткие комментарии могут быть как токсичными, так и нетоксичными.\n",
    "\n",
    "**Определение языков:**\n",
    "- Большинство комментариев на английском языке (около 99.6%), что упрощает задачу, так как модель может быть обучена на одном языке без необходимости учитывать многоязычные данные.\n",
    "- Небольшое количество комментариев на других языках (немецкий, французский и т.д.) не должно существенно влиять на обучение, если основной фокус на английском языке.\n",
    "\n",
    "**Следующие шаги:**\n",
    "- Необходимо провести векторизацию текстов для подготовки их к обучению модели.\n",
    "- Рассмотреть возможность использования методов балансировки классов для улучшения качества модели.\n"
   ]
  },
  {
   "cell_type": "code",
   "execution_count": 6,
   "metadata": {},
   "outputs": [
    {
     "name": "stdout",
     "output_type": "stream",
     "text": [
      "                                                text  \\\n",
      "0  The striped bats are hanging on their feet for...   \n",
      "1      you should be ashamed of yourself went worked   \n",
      "\n",
      "                                       lemm_text  \n",
      "0  the stripe bat be hang on their foot for good  \n",
      "1      you should be ashamed of yourself go work  \n"
     ]
    }
   ],
   "source": [
    "# Загрузка модели SpaCy\n",
    "nlp = spacy.load(\"en_core_web_sm\")\n",
    "\n",
    "def lemmatize_text_spacy(text):\n",
    "    doc = nlp(text)  # Обработка текста с помощью SpaCy\n",
    "    lemmatized = \" \".join([token.lemma_ for token in doc if not token.is_punct])  # Убираем пунктуацию\n",
    "    return lemmatized\n",
    "\n",
    "# Примеры предложений\n",
    "sentence1 = \"The striped bats are hanging on their feet for best\"\n",
    "sentence2 = \"you should be ashamed of yourself went worked\"\n",
    "\n",
    "# Создание DataFrame\n",
    "df_my = pd.DataFrame([sentence1, sentence2], columns=['text'])\n",
    "\n",
    "# Применение функции лемматизации\n",
    "df_my['lemm_text'] = df_my['text'].apply(lemmatize_text_spacy)\n",
    "\n",
    "# Вывод результатов\n",
    "print(df_my[['text', 'lemm_text']])\n"
   ]
  },
  {
   "cell_type": "code",
   "execution_count": 7,
   "metadata": {},
   "outputs": [],
   "source": [
    "#Применение лемматизации на всем датасете\n",
    "#df['lemm_text'] = df['text'].apply(lemmatize_text_spacy)\n",
    "\n",
    "# Удаление оригинального текста\n",
    "#df = df.drop(['text'], axis=1)\n",
    "#df.to_csv('lemmatized_comments.csv', index=False)"
   ]
  },
  {
   "cell_type": "code",
   "execution_count": 8,
   "metadata": {},
   "outputs": [
    {
     "data": {
      "text/html": [
       "<div>\n",
       "<style scoped>\n",
       "    .dataframe tbody tr th:only-of-type {\n",
       "        vertical-align: middle;\n",
       "    }\n",
       "\n",
       "    .dataframe tbody tr th {\n",
       "        vertical-align: top;\n",
       "    }\n",
       "\n",
       "    .dataframe thead th {\n",
       "        text-align: right;\n",
       "    }\n",
       "</style>\n",
       "<table border=\"1\" class=\"dataframe\">\n",
       "  <thead>\n",
       "    <tr style=\"text-align: right;\">\n",
       "      <th></th>\n",
       "      <th>Unnamed: 0</th>\n",
       "      <th>toxic</th>\n",
       "      <th>lemm_text</th>\n",
       "    </tr>\n",
       "  </thead>\n",
       "  <tbody>\n",
       "    <tr>\n",
       "      <th>0</th>\n",
       "      <td>0</td>\n",
       "      <td>0</td>\n",
       "      <td>Explanation \\n why the edit make under my user...</td>\n",
       "    </tr>\n",
       "    <tr>\n",
       "      <th>1</th>\n",
       "      <td>1</td>\n",
       "      <td>0</td>\n",
       "      <td>D'aww he match this background colour I be see...</td>\n",
       "    </tr>\n",
       "    <tr>\n",
       "      <th>2</th>\n",
       "      <td>2</td>\n",
       "      <td>0</td>\n",
       "      <td>hey man I be really not try to edit war it be ...</td>\n",
       "    </tr>\n",
       "    <tr>\n",
       "      <th>3</th>\n",
       "      <td>3</td>\n",
       "      <td>0</td>\n",
       "      <td>\\n More \\n I can not make any real suggestion ...</td>\n",
       "    </tr>\n",
       "    <tr>\n",
       "      <th>4</th>\n",
       "      <td>4</td>\n",
       "      <td>0</td>\n",
       "      <td>you sir be my hero any chance you remember wha...</td>\n",
       "    </tr>\n",
       "  </tbody>\n",
       "</table>\n",
       "</div>"
      ],
      "text/plain": [
       "   Unnamed: 0  toxic                                          lemm_text\n",
       "0           0      0  Explanation \\n why the edit make under my user...\n",
       "1           1      0  D'aww he match this background colour I be see...\n",
       "2           2      0  hey man I be really not try to edit war it be ...\n",
       "3           3      0  \\n More \\n I can not make any real suggestion ...\n",
       "4           4      0  you sir be my hero any chance you remember wha..."
      ]
     },
     "execution_count": 8,
     "metadata": {},
     "output_type": "execute_result"
    }
   ],
   "source": [
    "df = pd.read_csv('lemmatized_comments.csv')\n",
    "df.head()"
   ]
  },
  {
   "cell_type": "code",
   "execution_count": 9,
   "metadata": {},
   "outputs": [],
   "source": [
    "# Разделение выборки\n",
    "target = df['toxic']\n",
    "features = df.drop(['toxic'], axis=1)\n",
    "\n",
    "features_train, features_valid, target_train, target_valid = train_test_split(\n",
    "    features, target, test_size=0.5, random_state=RANDOM_STATE\n",
    ")\n",
    "features_valid, features_test, target_valid, target_test = train_test_split(\n",
    "    features_valid, target_valid, test_size=0.5, random_state=RANDOM_STATE\n",
    ")"
   ]
  },
  {
   "cell_type": "code",
   "execution_count": 10,
   "metadata": {},
   "outputs": [
    {
     "name": "stderr",
     "output_type": "stream",
     "text": [
      "[nltk_data] Downloading package stopwords to /home/jovyan/nltk_data...\n",
      "[nltk_data]   Package stopwords is already up-to-date!\n"
     ]
    },
    {
     "name": "stdout",
     "output_type": "stream",
     "text": [
      "(79646, 115181)\n",
      "(39823, 115181)\n",
      "(39823, 115181)\n"
     ]
    }
   ],
   "source": [
    "# Загрузка стоп-слов\n",
    "nltk.download('stopwords')\n",
    "stopwords = list(nltk_stopwords.words('english')) \n",
    "\n",
    "# Векторизация\n",
    "count_tf_idf = TfidfVectorizer(stop_words=stopwords)\n",
    "features_train = count_tf_idf.fit_transform(features_train['lemm_text']) \n",
    "features_valid = count_tf_idf.transform(features_valid['lemm_text']) \n",
    "features_test= count_tf_idf.transform(features_test['lemm_text']) \n",
    "\n",
    "\n",
    "print(features_train.shape)\n",
    "print(features_valid.shape)\n",
    "print(features_test.shape)"
   ]
  },
  {
   "cell_type": "code",
   "execution_count": 11,
   "metadata": {},
   "outputs": [
    {
     "name": "stdout",
     "output_type": "stream",
     "text": [
      "F1 на CV: 0.7572928235881315\n",
      "F1 на валидации: 0.758788225207202\n",
      "AUC-ROC: 0.9631473172396071\n"
     ]
    }
   ],
   "source": [
    "# Оценка базовой модели\n",
    "classificator = LogisticRegression(penalty='l2', C=15)\n",
    "train_f1 = cross_val_score(classificator, features_train, target_train, cv=3, scoring='f1').mean()\n",
    "classificator.fit(features_train, target_train)\n",
    "valid_f1 = f1_score(target_valid, classificator.predict(features_valid))\n",
    "roc_auc = roc_auc_score(target_valid, classificator.predict_proba(features_valid)[:, 1])\n",
    "print('F1 на CV:', train_f1)\n",
    "print('F1 на валидации:', valid_f1)\n",
    "print('AUC-ROC:', roc_auc)"
   ]
  },
  {
   "cell_type": "code",
   "execution_count": 12,
   "metadata": {},
   "outputs": [
    {
     "name": "stdout",
     "output_type": "stream",
     "text": [
      "F1 на CV с балансированными классами: 0.7621452282976912\n",
      "F1 на валидации с балансированными классами: 0.7579254220818656\n",
      "AUC-ROC с балансированными классами: 0.9629707531256336\n"
     ]
    }
   ],
   "source": [
    "# Балансировка классов\n",
    "class_ratio = target_train.value_counts()[0] / target_train.value_counts()[1]\n",
    "dict_classes = {0: 1, 1: class_ratio}\n",
    "\n",
    "# Оценка модели с уменьшением веса классов\n",
    "classificator = LogisticRegression(class_weight=dict_classes, penalty='l2', C=15)\n",
    "train_f1_balanced = cross_val_score(classificator, features_train, target_train, cv=3, scoring='f1').mean()\n",
    "classificator.fit(features_train, target_train)\n",
    "valid_f1_balanced = f1_score(target_valid, classificator.predict(features_valid))\n",
    "roc_auc_balanced = roc_auc_score(target_valid, classificator.predict_proba(features_valid)[:, 1])\n",
    "print('F1 на CV с балансированными классами:', train_f1_balanced)\n",
    "print('F1 на валидации с балансированными классами:', valid_f1_balanced)\n",
    "print('AUC-ROC с балансированными классами:', roc_auc_balanced)"
   ]
  },
  {
   "cell_type": "code",
   "execution_count": 13,
   "metadata": {},
   "outputs": [
    {
     "name": "stdout",
     "output_type": "stream",
     "text": [
      "F1 на CV с автоматически балансированными классами: 0.7625367585485119\n",
      "F1 на валидации с автоматически балансированными классами: 0.7567698259187621\n",
      "AUC-ROC с автоматически балансированными классами: 0.9640707531739936\n"
     ]
    }
   ],
   "source": [
    "# Оценка модели с автоматической балансировкой\n",
    "classificator = LogisticRegression(class_weight='balanced',penalty='l2', C=15)\n",
    "train_f1_balanced_auto = cross_val_score(classificator, features_train, target_train, cv=3, scoring='f1').mean()\n",
    "classificator.fit(features_train, target_train)\n",
    "valid_f1_balanced_auto = f1_score(target_valid, classificator.predict(features_valid))\n",
    "roc_auc_balanced_auto = roc_auc_score(target_valid, classificator.predict_proba(features_valid)[:, 1])\n",
    "print('F1 на CV с автоматически балансированными классами:', train_f1_balanced_auto)\n",
    "print('F1 на валидации с автоматически балансированными классами:', valid_f1_balanced_auto)\n",
    "print('AUC-ROC с автоматически балансированными классами:', roc_auc_balanced_auto)"
   ]
  },
  {
   "cell_type": "code",
   "execution_count": 14,
   "metadata": {},
   "outputs": [],
   "source": [
    "# Ресемплинг с уменьшением класса 0\n",
    "df_train = df.iloc[target_train.index]\n",
    "target_train_class_zero = df_train[df_train['toxic'] == 0]['toxic']\n",
    "target_train_class_one = df_train[df_train['toxic'] == 1]['toxic']\n",
    "target_train_class_zero_downsample = target_train_class_zero.sample(\n",
    "    target_train_class_one.shape[0], random_state=RANDOM_STATE\n",
    ")\n",
    "target_train_downsample = pd.concat([target_train_class_zero_downsample, target_train_class_one])\n",
    "\n",
    "features_train_downsample = df.iloc[target_train_downsample.index]\n",
    "features_train_downsample, target_train_downsample = shuffle(\n",
    "    features_train_downsample, target_train_downsample, random_state=RANDOM_STATE\n",
    ")\n",
    "features_train_downsample = count_tf_idf.transform(features_train_downsample['lemm_text'].values.astype('U'))"
   ]
  },
  {
   "cell_type": "code",
   "execution_count": 15,
   "metadata": {},
   "outputs": [
    {
     "name": "stdout",
     "output_type": "stream",
     "text": [
      "F1 на CV с уменьшением классов: 0.8868689794579501\n",
      "F1 на валидации с уменьшением классов: 0.6697720515361745\n",
      "AUC-ROC с уменьшением классов: 0.9613615284326184\n"
     ]
    }
   ],
   "source": [
    "# Оценка модели с уменьшением классов\n",
    "classificator = LogisticRegression(penalty='l2', C=15)\n",
    "train_f1_downsampled = cross_val_score(classificator, features_train_downsample, target_train_downsample, cv=3, scoring='f1').mean()\n",
    "classificator.fit(features_train_downsample, target_train_downsample)\n",
    "valid_f1_downsampled = f1_score(target_valid, classificator.predict(features_valid))\n",
    "roc_auc_downsampled = roc_auc_score(target_valid, classificator.predict_proba(features_valid)[:, 1])\n",
    "print('F1 на CV с уменьшением классов:', train_f1_downsampled)\n",
    "print('F1 на валидации с уменьшением классов:', valid_f1_downsampled)\n",
    "print('AUC-ROC с уменьшением классов:', roc_auc_downsampled)"
   ]
  },
  {
   "cell_type": "code",
   "execution_count": 16,
   "metadata": {},
   "outputs": [
    {
     "data": {
      "image/png": "[encoded data removed]",
      "text/plain": [
       "<Figure size 864x648 with 1 Axes>"
      ]
     },
     "metadata": {
      "needs_background": "light"
     },
     "output_type": "display_data"
    }
   ],
   "source": [
    "# Построим ROC-AUC графики\n",
    "plt.figure(figsize=[12, 9])\n",
    "plt.plot([0, 1], [0, 1], linestyle='--', label='Random Model')\n",
    "\n",
    "def plot_roc_curve(model, features, target, label):\n",
    "    model.fit(features, target)\n",
    "    probabilities_valid = model.predict_proba(features_valid)\n",
    "    probabilities_one_valid = probabilities_valid[:, 1]\n",
    "    fpr, tpr, _ = roc_curve(target_valid, probabilities_one_valid)\n",
    "    plt.plot(fpr, tpr, label=label)\n",
    "\n",
    "# Построение ROC-кривых для разных моделей\n",
    "plot_roc_curve(LogisticRegression(), features_train, target_train, 'LR')\n",
    "plot_roc_curve(LogisticRegression(class_weight=dict_classes), features_train, target_train, 'LR по весу')\n",
    "plot_roc_curve(LogisticRegression(), features_train_downsample, target_train_downsample, 'LR downsampled classes')\n",
    "\n",
    "plt.xlim([0, 1])\n",
    "plt.ylim([0, 1])\n",
    "plt.xlabel(\"False Positive Rate\")\n",
    "plt.ylabel(\"True Positive Rate\")\n",
    "plt.legend(loc='lower right', fontsize='x-large')\n",
    "plt.title(\"ROC-кривая\")\n",
    "plt.show()"
   ]
  },
  {
   "cell_type": "code",
   "execution_count": 17,
   "metadata": {},
   "outputs": [
    {
     "name": "stdout",
     "output_type": "stream",
     "text": [
      "                              Модель  F1 на CV  F1 на валидации   AUC-ROC\n",
      "0                Logistic Regression  0.757293         0.758788  0.963147\n",
      "1                         LR по весу  0.762145         0.757925  0.962971\n",
      "2  LR автоматически сбалансированные  0.762537         0.756770  0.964071\n",
      "3             LR downsampled classes  0.886869         0.669772  0.961362\n"
     ]
    }
   ],
   "source": [
    "# Создание таблицы результатов\n",
    "results = {\n",
    "    'Модель': ['Logistic Regression', 'LR по весу', 'LR автоматически сбалансированные', 'LR downsampled classes'],\n",
    "    'F1 на CV': [train_f1, train_f1_balanced, train_f1_balanced_auto, train_f1_downsampled],\n",
    "    'F1 на валидации': [valid_f1, valid_f1_balanced, valid_f1_balanced_auto, valid_f1_downsampled],\n",
    "    'AUC-ROC': [roc_auc, roc_auc_balanced, roc_auc_balanced_auto, roc_auc_downsampled],\n",
    "}\n",
    "\n",
    "results_df = pd.DataFrame(results)\n",
    "print(results_df)"
   ]
  },
  {
   "cell_type": "markdown",
   "metadata": {},
   "source": [
    "## Обучение"
   ]
  },
  {
   "cell_type": "code",
   "execution_count": 18,
   "metadata": {},
   "outputs": [],
   "source": [
    "# Определим параметры для Logistic Regression\n",
    "logistic_param_grid = {\n",
    "    'classifier__C': [ 10, 15],\n",
    "    'classifier__class_weight': [None, 'balanced'],\n",
    "}\n",
    "\n",
    "# Определим параметры для Decision Tree\n",
    "decision_tree_param_grid = {\n",
    "    'classifier__max_depth': [None, 5, 10, 15],\n",
    "    'classifier__class_weight': [None, 'balanced'],\n",
    "}\n"
   ]
  },
  {
   "cell_type": "code",
   "execution_count": 19,
   "metadata": {},
   "outputs": [
    {
     "name": "stdout",
     "output_type": "stream",
     "text": [
      "Лучшие параметры для Logistic Regression: {'classifier__C': 10, 'classifier__class_weight': 'balanced'}\n",
      "F1: 0.7629600443495553\n"
     ]
    }
   ],
   "source": [
    "logistic_pipeline = Pipeline([\n",
    "    ('classifier', LogisticRegression(random_state=RANDOM_STATE))\n",
    "])\n",
    "# Кросс-валидация и подбор гиперпараметров\n",
    "logistic_grid_search = GridSearchCV(logistic_pipeline, logistic_param_grid, cv=3, scoring='f1', n_jobs=-1)\n",
    "\n",
    "# Обучение модели \n",
    "logistic_grid_search.fit(features_train, target_train)\n",
    "\n",
    "# Вывод результатов\n",
    "print(\"Лучшие параметры для Logistic Regression:\", logistic_grid_search.best_params_)\n",
    "print(\"F1:\", logistic_grid_search.best_score_)"
   ]
  },
  {
   "cell_type": "code",
   "execution_count": 20,
   "metadata": {},
   "outputs": [
    {
     "name": "stdout",
     "output_type": "stream",
     "text": [
      "Лучшие параметры для Decision Tree: {'classifier__class_weight': None, 'classifier__max_depth': None}\n",
      "F1: 0.7078855129990114\n"
     ]
    }
   ],
   "source": [
    "# Кросс-валидация и подбор гиперпараметров для Decision Tree\n",
    "decision_tree_pipeline = Pipeline([\n",
    "    ('classifier',  DecisionTreeClassifier(random_state=RANDOM_STATE))\n",
    "])\n",
    "\n",
    "decision_tree_grid_search = GridSearchCV(decision_tree_pipeline, decision_tree_param_grid, cv=3, scoring='f1', n_jobs=-1)\n",
    "decision_tree_grid_search.fit(features_train, target_train)\n",
    "\n",
    "print(\"Лучшие параметры для Decision Tree:\", decision_tree_grid_search.best_params_)\n",
    "print(\"F1:\", decision_tree_grid_search.best_score_)"
   ]
  },
  {
   "cell_type": "code",
   "execution_count": 22,
   "metadata": {},
   "outputs": [
    {
     "name": "stdout",
     "output_type": "stream",
     "text": [
      "F1 на тестовой для Logistic Regression: 0.7643797643797644\n"
     ]
    }
   ],
   "source": [
    "# Финальное тестирование логистической регрессии\n",
    "logistic_best_model = logistic_grid_search.best_estimator_\n",
    "valid_f1_logistic = f1_score(target_test, logistic_best_model.predict(features_test))\n",
    "print(\"F1 на тестовой для Logistic Regression:\", valid_f1_logistic)"
   ]
  },
  {
   "cell_type": "code",
   "execution_count": 27,
   "metadata": {},
   "outputs": [
    {
     "data": {
      "image/png": "[encoded data removed]",
      "text/plain": [
       "<Figure size 720x432 with 1 Axes>"
      ]
     },
     "metadata": {
      "needs_background": "light"
     },
     "output_type": "display_data"
    }
   ],
   "source": [
    "# Получаем имена признаков и коэффициенты\n",
    "feature_names = count_tf_idf.get_feature_names_out().tolist()  # Имена признаков\n",
    "coefficients = logistic_best_model.named_steps['classifier'].coef_[0]  # Коэффициенты модели\n",
    "\n",
    "# Создаем DataFrame для визуализации важности признаков\n",
    "importance_df = pd.DataFrame({'Feature': feature_names, 'Importance': coefficients})\n",
    "importance_df = importance_df.sort_values(by='Importance', ascending=False).head(20)  # Топ-20 признаков\n",
    "\n",
    "# Визуализация важности признаков\n",
    "plt.figure(figsize=(10, 6))\n",
    "sns.barplot(data=importance_df, x='Importance', y='Feature', palette='viridis')\n",
    "plt.title('Топ-20 наиболее важных признаков для Logistic Regression')\n",
    "plt.xlabel('Важность')\n",
    "plt.ylabel('Признаки')\n",
    "plt.show()"
   ]
  },
  {
   "cell_type": "markdown",
   "metadata": {},
   "source": [
    "## Выводы"
   ]
  },
  {
   "cell_type": "markdown",
   "metadata": {},
   "source": [
    "**Выводы по проекту «Викишоп»**\n",
    "\n",
    "В ходе выполнения проекта по классификации токсичных комментариев для интернет-магазина «Викишоп» были выполнены следующие этапы и достигнуты значимые результаты:\n",
    "\n",
    "**1. Подготовка данных**\n",
    "- **Загрузка и анализ данных**: Набор данных, содержащий 159292 комментария, был загружен и проанализирован. Обнаружено, что 10.16% комментариев являются токсичными, а 89.84% — нетоксичными. Данные не содержат пропущенных значений или дубликатов, что положительно сказывается на качестве модели.\n",
    "- **Анализ текстовых данных**: Длина комментариев варьируется от 3 до 5000 символов, со средним значением 67.21 символов. Большинство комментариев написаны на английском языке (99.6%), что упрощает задачу, так как модель может быть обучена на одном языке.\n",
    "- **Предобработка текстов**: Тексты были обработаны с использованием лемматизации и векторизации с помощью TF-IDF. Это позволило подготовить данные для обучения моделей.\n",
    "\n",
    "**2. Обучение моделей**\n",
    "- **Обучение базовой модели**: Была обучена базовая модель логистической регрессии, которая показала F1-метрику 0.7519 на кросс-валидации и 0.7611 на валидационной выборке, что соответствует заданному порогу в 0.75.\n",
    "- **Балансировка классов**: Для улучшения качества модели применялись методы балансировки классов:\n",
    "  - Уменьшение веса классов, что привело к улучшению F1 до 0.7610 на валидации.\n",
    "  - Автоматическая балансировка классов, где F1 составила 0.7518 на валидации.\n",
    "  - Ресемплинг с уменьшением класса 0 (нетоксичные комментарии) показал наилучший результат на кросс-валидации с F1 = 0.8831, однако на валидации результат составил 0.6647.\n",
    "  \n",
    "- **Подбор гиперпараметров**: Для моделей логистической регрессии, дерева решений и CatBoost был проведен подбор гиперпараметров с использованием кросс-валидации. \n",
    "  - Логистическая регрессия с параметрами `C=15` и `class_weight='balanced'` показала наилучший результат F1 = 0.7627.\n",
    "  - Модель дерева решений достигла F1 = 0.7051 без использования балансировки.\n",
    "**3. Итоговые результаты**\n",
    "**Логистическая регрессия с балансировкой классов показала наилучшие результаты по метрикам.\n",
    "\n",
    "\n"
   ]
  }
 ],
 "metadata": {
  "ExecuteTimeLog": [
   {
    "duration": 415,
    "start_time": "2024-12-20T15:44:53.224Z"
   },
   {
    "duration": 92,
    "start_time": "2024-12-20T15:44:53.641Z"
   },
   {
    "duration": 0,
    "start_time": "2024-12-20T15:44:53.735Z"
   },
   {
    "duration": 0,
    "start_time": "2024-12-20T15:44:53.736Z"
   },
   {
    "duration": 0,
    "start_time": "2024-12-20T15:44:53.737Z"
   },
   {
    "duration": 408,
    "start_time": "2024-12-20T15:45:54.773Z"
   },
   {
    "duration": 3894,
    "start_time": "2024-12-20T15:45:55.183Z"
   },
   {
    "duration": 8,
    "start_time": "2024-12-20T15:45:59.079Z"
   },
   {
    "duration": 3,
    "start_time": "2024-12-20T15:45:59.089Z"
   },
   {
    "duration": 0,
    "start_time": "2024-12-20T15:45:59.093Z"
   },
   {
    "duration": 402,
    "start_time": "2024-12-20T15:46:08.611Z"
   },
   {
    "duration": 919,
    "start_time": "2024-12-20T15:46:09.015Z"
   },
   {
    "duration": 9,
    "start_time": "2024-12-20T15:46:09.936Z"
   },
   {
    "duration": 29,
    "start_time": "2024-12-20T15:46:09.946Z"
   },
   {
    "duration": 7,
    "start_time": "2024-12-20T15:46:09.977Z"
   },
   {
    "duration": 6,
    "start_time": "2024-12-20T15:46:20.064Z"
   },
   {
    "duration": 393,
    "start_time": "2024-12-20T15:50:30.470Z"
   },
   {
    "duration": 937,
    "start_time": "2024-12-20T15:50:30.866Z"
   },
   {
    "duration": 13,
    "start_time": "2024-12-20T15:50:31.805Z"
   },
   {
    "duration": 34,
    "start_time": "2024-12-20T15:50:31.819Z"
   },
   {
    "duration": 15,
    "start_time": "2024-12-20T15:50:31.855Z"
   },
   {
    "duration": 1041,
    "start_time": "2024-12-20T15:50:31.872Z"
   },
   {
    "duration": 0,
    "start_time": "2024-12-20T15:50:32.915Z"
   },
   {
    "duration": 480,
    "start_time": "2024-12-20T15:51:02.232Z"
   },
   {
    "duration": 0,
    "start_time": "2024-12-20T15:51:02.714Z"
   },
   {
    "duration": 0,
    "start_time": "2024-12-20T15:51:02.716Z"
   },
   {
    "duration": 0,
    "start_time": "2024-12-20T15:51:02.717Z"
   },
   {
    "duration": 0,
    "start_time": "2024-12-20T15:51:02.719Z"
   },
   {
    "duration": 0,
    "start_time": "2024-12-20T15:51:02.720Z"
   },
   {
    "duration": 0,
    "start_time": "2024-12-20T15:51:02.722Z"
   },
   {
    "duration": 0,
    "start_time": "2024-12-20T15:52:22.966Z"
   },
   {
    "duration": 0,
    "start_time": "2024-12-20T15:52:22.967Z"
   },
   {
    "duration": 0,
    "start_time": "2024-12-20T15:52:22.968Z"
   },
   {
    "duration": 0,
    "start_time": "2024-12-20T15:52:22.969Z"
   },
   {
    "duration": 0,
    "start_time": "2024-12-20T15:52:22.970Z"
   },
   {
    "duration": 0,
    "start_time": "2024-12-20T15:52:22.971Z"
   },
   {
    "duration": 0,
    "start_time": "2024-12-20T15:52:22.972Z"
   },
   {
    "duration": 0,
    "start_time": "2024-12-20T15:52:22.973Z"
   },
   {
    "duration": 85,
    "start_time": "2024-12-20T15:53:53.921Z"
   },
   {
    "duration": 0,
    "start_time": "2024-12-20T15:53:54.007Z"
   },
   {
    "duration": 0,
    "start_time": "2024-12-20T15:53:54.008Z"
   },
   {
    "duration": 0,
    "start_time": "2024-12-20T15:53:54.009Z"
   },
   {
    "duration": 0,
    "start_time": "2024-12-20T15:53:54.010Z"
   },
   {
    "duration": 0,
    "start_time": "2024-12-20T15:53:54.011Z"
   },
   {
    "duration": 0,
    "start_time": "2024-12-20T15:53:54.012Z"
   },
   {
    "duration": 0,
    "start_time": "2024-12-20T15:53:54.013Z"
   },
   {
    "duration": 4674,
    "start_time": "2024-12-20T15:54:07.922Z"
   },
   {
    "duration": 2598,
    "start_time": "2024-12-20T15:54:14.879Z"
   },
   {
    "duration": 417,
    "start_time": "2024-12-20T15:54:17.480Z"
   },
   {
    "duration": 919,
    "start_time": "2024-12-20T15:54:17.899Z"
   },
   {
    "duration": 8,
    "start_time": "2024-12-20T15:54:18.820Z"
   },
   {
    "duration": 15,
    "start_time": "2024-12-20T15:54:18.830Z"
   },
   {
    "duration": 11,
    "start_time": "2024-12-20T15:54:18.846Z"
   },
   {
    "duration": 733,
    "start_time": "2024-12-20T15:54:18.859Z"
   },
   {
    "duration": 73860,
    "start_time": "2024-12-20T15:54:19.594Z"
   },
   {
    "duration": 2665,
    "start_time": "2024-12-20T16:01:50.968Z"
   },
   {
    "duration": 1068,
    "start_time": "2024-12-20T16:01:53.635Z"
   },
   {
    "duration": 17,
    "start_time": "2024-12-20T16:01:54.705Z"
   },
   {
    "duration": 102,
    "start_time": "2024-12-20T16:01:54.723Z"
   },
   {
    "duration": 2638,
    "start_time": "2024-12-20T16:03:14.718Z"
   },
   {
    "duration": 1138,
    "start_time": "2024-12-20T16:03:17.358Z"
   },
   {
    "duration": 906,
    "start_time": "2024-12-20T16:03:18.498Z"
   },
   {
    "duration": 16,
    "start_time": "2024-12-20T16:03:19.406Z"
   },
   {
    "duration": 2705,
    "start_time": "2024-12-20T16:04:05.707Z"
   },
   {
    "duration": 1081,
    "start_time": "2024-12-20T16:04:08.414Z"
   },
   {
    "duration": 907,
    "start_time": "2024-12-20T16:04:09.496Z"
   },
   {
    "duration": 12,
    "start_time": "2024-12-20T16:04:10.405Z"
   },
   {
    "duration": 2628,
    "start_time": "2024-12-20T16:04:52.283Z"
   },
   {
    "duration": 1097,
    "start_time": "2024-12-20T16:04:54.914Z"
   },
   {
    "duration": 919,
    "start_time": "2024-12-20T16:04:56.013Z"
   },
   {
    "duration": 15,
    "start_time": "2024-12-20T16:04:56.933Z"
   },
   {
    "duration": 70969,
    "start_time": "2024-12-20T16:04:56.950Z"
   },
   {
    "duration": 2686,
    "start_time": "2024-12-20T16:06:57.303Z"
   },
   {
    "duration": 1209,
    "start_time": "2024-12-20T16:06:59.992Z"
   },
   {
    "duration": 947,
    "start_time": "2024-12-20T16:07:01.203Z"
   },
   {
    "duration": 13,
    "start_time": "2024-12-20T16:07:02.152Z"
   },
   {
    "duration": 72371,
    "start_time": "2024-12-20T16:07:02.167Z"
   },
   {
    "duration": 2698,
    "start_time": "2024-12-20T16:09:07.460Z"
   },
   {
    "duration": 1128,
    "start_time": "2024-12-20T16:09:10.161Z"
   },
   {
    "duration": 108,
    "start_time": "2024-12-20T16:09:11.290Z"
   },
   {
    "duration": 0,
    "start_time": "2024-12-20T16:09:11.400Z"
   },
   {
    "duration": 0,
    "start_time": "2024-12-20T16:09:11.401Z"
   },
   {
    "duration": 2678,
    "start_time": "2024-12-20T16:13:26.418Z"
   },
   {
    "duration": 1109,
    "start_time": "2024-12-20T16:13:29.099Z"
   },
   {
    "duration": 4,
    "start_time": "2024-12-20T16:13:30.210Z"
   },
   {
    "duration": 37,
    "start_time": "2024-12-20T16:13:30.216Z"
   },
   {
    "duration": 49,
    "start_time": "2024-12-20T16:13:30.255Z"
   },
   {
    "duration": 113,
    "start_time": "2024-12-20T16:13:30.306Z"
   },
   {
    "duration": 2770,
    "start_time": "2024-12-20T16:15:25.827Z"
   },
   {
    "duration": 1147,
    "start_time": "2024-12-20T16:15:28.600Z"
   },
   {
    "duration": 13,
    "start_time": "2024-12-20T16:15:29.749Z"
   },
   {
    "duration": 950,
    "start_time": "2024-12-20T16:15:29.764Z"
   },
   {
    "duration": 75408,
    "start_time": "2024-12-20T16:15:30.715Z"
   },
   {
    "duration": 2634,
    "start_time": "2024-12-20T16:37:04.874Z"
   },
   {
    "duration": 1501,
    "start_time": "2024-12-20T16:37:07.511Z"
   },
   {
    "duration": 0,
    "start_time": "2024-12-20T16:37:09.014Z"
   },
   {
    "duration": 0,
    "start_time": "2024-12-20T16:37:09.015Z"
   },
   {
    "duration": 0,
    "start_time": "2024-12-20T16:37:09.016Z"
   },
   {
    "duration": 0,
    "start_time": "2024-12-20T16:37:09.017Z"
   },
   {
    "duration": 0,
    "start_time": "2024-12-20T16:37:09.018Z"
   },
   {
    "duration": 0,
    "start_time": "2024-12-20T16:37:09.019Z"
   },
   {
    "duration": 0,
    "start_time": "2024-12-20T16:37:09.021Z"
   },
   {
    "duration": 0,
    "start_time": "2024-12-20T16:37:09.021Z"
   },
   {
    "duration": 0,
    "start_time": "2024-12-20T16:37:09.023Z"
   },
   {
    "duration": 0,
    "start_time": "2024-12-20T16:37:09.024Z"
   },
   {
    "duration": 0,
    "start_time": "2024-12-20T16:37:09.024Z"
   },
   {
    "duration": 0,
    "start_time": "2024-12-20T16:37:09.026Z"
   },
   {
    "duration": 0,
    "start_time": "2024-12-20T16:37:09.026Z"
   },
   {
    "duration": 9874,
    "start_time": "2024-12-20T16:38:06.596Z"
   },
   {
    "duration": 1550,
    "start_time": "2024-12-20T16:38:16.472Z"
   },
   {
    "duration": 13,
    "start_time": "2024-12-20T16:38:18.024Z"
   },
   {
    "duration": 892,
    "start_time": "2024-12-20T16:38:18.038Z"
   },
   {
    "duration": 72485,
    "start_time": "2024-12-20T16:38:18.933Z"
   },
   {
    "duration": 0,
    "start_time": "2024-12-20T16:40:08.634Z"
   },
   {
    "duration": 0,
    "start_time": "2024-12-20T16:40:08.635Z"
   },
   {
    "duration": 0,
    "start_time": "2024-12-20T16:40:08.636Z"
   },
   {
    "duration": 0,
    "start_time": "2024-12-20T16:40:08.637Z"
   },
   {
    "duration": 0,
    "start_time": "2024-12-20T16:40:08.638Z"
   },
   {
    "duration": 0,
    "start_time": "2024-12-20T16:40:08.639Z"
   },
   {
    "duration": 0,
    "start_time": "2024-12-20T16:40:08.639Z"
   },
   {
    "duration": 0,
    "start_time": "2024-12-20T16:40:08.640Z"
   },
   {
    "duration": 0,
    "start_time": "2024-12-20T16:40:08.641Z"
   },
   {
    "duration": 258,
    "start_time": "2024-12-20T16:40:08.744Z"
   },
   {
    "duration": 10,
    "start_time": "2024-12-20T16:40:09.302Z"
   },
   {
    "duration": 5416,
    "start_time": "2024-12-20T16:41:04.392Z"
   },
   {
    "duration": 1567,
    "start_time": "2024-12-20T16:41:09.811Z"
   },
   {
    "duration": 14,
    "start_time": "2024-12-20T16:41:11.380Z"
   },
   {
    "duration": 864,
    "start_time": "2024-12-20T16:41:11.395Z"
   },
   {
    "duration": 71823,
    "start_time": "2024-12-20T16:41:12.261Z"
   },
   {
    "duration": 36110,
    "start_time": "2024-12-20T16:42:24.086Z"
   },
   {
    "duration": 41,
    "start_time": "2024-12-20T16:43:00.200Z"
   },
   {
    "duration": 1437,
    "start_time": "2024-12-20T16:43:00.243Z"
   },
   {
    "duration": 0,
    "start_time": "2024-12-20T16:43:01.682Z"
   },
   {
    "duration": 0,
    "start_time": "2024-12-20T16:43:01.683Z"
   },
   {
    "duration": 0,
    "start_time": "2024-12-20T16:43:01.684Z"
   },
   {
    "duration": 0,
    "start_time": "2024-12-20T16:43:01.685Z"
   },
   {
    "duration": 0,
    "start_time": "2024-12-20T16:43:01.686Z"
   },
   {
    "duration": 0,
    "start_time": "2024-12-20T16:43:01.687Z"
   },
   {
    "duration": 0,
    "start_time": "2024-12-20T16:43:01.688Z"
   },
   {
    "duration": 11021,
    "start_time": "2024-12-20T16:45:05.296Z"
   },
   {
    "duration": 5331,
    "start_time": "2024-12-20T16:45:34.875Z"
   },
   {
    "duration": 1655,
    "start_time": "2024-12-20T16:45:40.208Z"
   },
   {
    "duration": 13,
    "start_time": "2024-12-20T16:45:41.865Z"
   },
   {
    "duration": 1486,
    "start_time": "2024-12-20T16:45:41.880Z"
   },
   {
    "duration": 71473,
    "start_time": "2024-12-20T16:45:43.368Z"
   },
   {
    "duration": 5380,
    "start_time": "2024-12-20T16:47:16.208Z"
   },
   {
    "duration": 1481,
    "start_time": "2024-12-20T16:47:21.590Z"
   },
   {
    "duration": 13,
    "start_time": "2024-12-20T16:47:23.073Z"
   },
   {
    "duration": 877,
    "start_time": "2024-12-20T16:47:23.088Z"
   },
   {
    "duration": 35602,
    "start_time": "2024-12-20T16:47:23.967Z"
   },
   {
    "duration": 41,
    "start_time": "2024-12-20T16:47:59.570Z"
   },
   {
    "duration": 10302,
    "start_time": "2024-12-20T16:47:59.613Z"
   },
   {
    "duration": 30016,
    "start_time": "2024-12-20T16:48:09.917Z"
   },
   {
    "duration": 15787,
    "start_time": "2024-12-20T16:48:39.935Z"
   },
   {
    "duration": 14500,
    "start_time": "2024-12-20T16:48:55.724Z"
   },
   {
    "duration": 1003,
    "start_time": "2024-12-20T16:49:10.311Z"
   },
   {
    "duration": 7300,
    "start_time": "2024-12-20T16:49:11.316Z"
   },
   {
    "duration": 23118,
    "start_time": "2024-12-20T16:49:18.618Z"
   },
   {
    "duration": 9,
    "start_time": "2024-12-20T16:49:41.738Z"
   },
   {
    "duration": 3596,
    "start_time": "2024-12-20T16:54:49.985Z"
   },
   {
    "duration": 0,
    "start_time": "2024-12-20T17:07:48.994Z"
   },
   {
    "duration": 0,
    "start_time": "2024-12-20T17:07:49.011Z"
   },
   {
    "duration": 0,
    "start_time": "2024-12-20T17:07:49.012Z"
   },
   {
    "duration": 0,
    "start_time": "2024-12-20T17:07:49.013Z"
   },
   {
    "duration": 0,
    "start_time": "2024-12-20T17:07:49.013Z"
   },
   {
    "duration": 0,
    "start_time": "2024-12-20T17:07:49.014Z"
   },
   {
    "duration": 0,
    "start_time": "2024-12-20T17:07:49.016Z"
   },
   {
    "duration": 0,
    "start_time": "2024-12-20T17:07:49.017Z"
   },
   {
    "duration": 0,
    "start_time": "2024-12-20T17:07:49.018Z"
   },
   {
    "duration": 0,
    "start_time": "2024-12-20T17:07:49.019Z"
   },
   {
    "duration": 0,
    "start_time": "2024-12-20T17:07:49.021Z"
   },
   {
    "duration": 0,
    "start_time": "2024-12-20T17:07:49.021Z"
   },
   {
    "duration": 0,
    "start_time": "2024-12-20T17:07:49.022Z"
   },
   {
    "duration": 0,
    "start_time": "2024-12-20T17:07:49.023Z"
   },
   {
    "duration": 0,
    "start_time": "2024-12-20T17:07:49.024Z"
   },
   {
    "duration": 5328,
    "start_time": "2024-12-20T17:09:37.238Z"
   },
   {
    "duration": 1496,
    "start_time": "2024-12-20T17:09:42.568Z"
   },
   {
    "duration": 14,
    "start_time": "2024-12-20T17:09:44.066Z"
   },
   {
    "duration": 874,
    "start_time": "2024-12-20T17:09:44.082Z"
   },
   {
    "duration": 35564,
    "start_time": "2024-12-20T17:09:44.957Z"
   },
   {
    "duration": 29,
    "start_time": "2024-12-20T17:10:20.523Z"
   },
   {
    "duration": 1458,
    "start_time": "2024-12-20T17:10:20.554Z"
   },
   {
    "duration": 0,
    "start_time": "2024-12-20T17:10:22.014Z"
   },
   {
    "duration": 0,
    "start_time": "2024-12-20T17:10:22.015Z"
   },
   {
    "duration": 0,
    "start_time": "2024-12-20T17:10:22.016Z"
   },
   {
    "duration": 0,
    "start_time": "2024-12-20T17:10:22.017Z"
   },
   {
    "duration": 0,
    "start_time": "2024-12-20T17:10:22.018Z"
   },
   {
    "duration": 0,
    "start_time": "2024-12-20T17:10:22.019Z"
   },
   {
    "duration": 0,
    "start_time": "2024-12-20T17:10:22.019Z"
   },
   {
    "duration": 0,
    "start_time": "2024-12-20T17:10:22.020Z"
   },
   {
    "duration": 5354,
    "start_time": "2024-12-20T17:14:26.946Z"
   },
   {
    "duration": 1501,
    "start_time": "2024-12-20T17:14:32.303Z"
   },
   {
    "duration": 15,
    "start_time": "2024-12-20T17:14:33.806Z"
   },
   {
    "duration": 862,
    "start_time": "2024-12-20T17:14:33.822Z"
   },
   {
    "duration": 35775,
    "start_time": "2024-12-20T17:14:34.686Z"
   },
   {
    "duration": 31,
    "start_time": "2024-12-20T17:15:10.463Z"
   },
   {
    "duration": 10556,
    "start_time": "2024-12-20T17:15:10.495Z"
   },
   {
    "duration": 43768,
    "start_time": "2024-12-20T17:15:21.052Z"
   },
   {
    "duration": 23903,
    "start_time": "2024-12-20T17:16:04.822Z"
   },
   {
    "duration": 20707,
    "start_time": "2024-12-20T17:16:28.727Z"
   },
   {
    "duration": 1056,
    "start_time": "2024-12-20T17:16:49.436Z"
   },
   {
    "duration": 11939,
    "start_time": "2024-12-20T17:16:50.494Z"
   },
   {
    "duration": 22355,
    "start_time": "2024-12-20T17:17:02.435Z"
   },
   {
    "duration": 8,
    "start_time": "2024-12-20T17:17:24.793Z"
   },
   {
    "duration": 4376,
    "start_time": "2024-12-20T17:17:24.803Z"
   },
   {
    "duration": 5308,
    "start_time": "2024-12-20T17:25:10.624Z"
   },
   {
    "duration": 1447,
    "start_time": "2024-12-20T17:25:15.934Z"
   },
   {
    "duration": 12,
    "start_time": "2024-12-20T17:25:17.383Z"
   },
   {
    "duration": 880,
    "start_time": "2024-12-20T17:25:17.397Z"
   },
   {
    "duration": 36752,
    "start_time": "2024-12-20T17:25:18.278Z"
   },
   {
    "duration": 32,
    "start_time": "2024-12-20T17:25:55.032Z"
   },
   {
    "duration": 10510,
    "start_time": "2024-12-20T17:25:55.066Z"
   },
   {
    "duration": 4,
    "start_time": "2024-12-20T17:26:05.577Z"
   },
   {
    "duration": 0,
    "start_time": "2024-12-20T17:26:05.583Z"
   },
   {
    "duration": 0,
    "start_time": "2024-12-20T17:26:05.584Z"
   },
   {
    "duration": 0,
    "start_time": "2024-12-20T17:26:05.585Z"
   },
   {
    "duration": 0,
    "start_time": "2024-12-20T17:26:05.586Z"
   },
   {
    "duration": 0,
    "start_time": "2024-12-20T17:26:05.587Z"
   },
   {
    "duration": 0,
    "start_time": "2024-12-20T17:26:05.588Z"
   },
   {
    "duration": 5311,
    "start_time": "2024-12-20T17:26:45.748Z"
   },
   {
    "duration": 1443,
    "start_time": "2024-12-20T17:26:51.061Z"
   },
   {
    "duration": 13,
    "start_time": "2024-12-20T17:26:52.505Z"
   },
   {
    "duration": 858,
    "start_time": "2024-12-20T17:26:52.520Z"
   },
   {
    "duration": 35689,
    "start_time": "2024-12-20T17:26:53.380Z"
   },
   {
    "duration": 29,
    "start_time": "2024-12-20T17:27:29.071Z"
   },
   {
    "duration": 10474,
    "start_time": "2024-12-20T17:27:29.101Z"
   },
   {
    "duration": 56954,
    "start_time": "2024-12-20T17:27:39.577Z"
   },
   {
    "duration": 46000,
    "start_time": "2024-12-20T17:28:36.533Z"
   },
   {
    "duration": 54297,
    "start_time": "2024-12-20T17:29:22.534Z"
   },
   {
    "duration": 1006,
    "start_time": "2024-12-20T17:30:16.912Z"
   },
   {
    "duration": 29412,
    "start_time": "2024-12-20T17:30:17.920Z"
   },
   {
    "duration": 21535,
    "start_time": "2024-12-20T17:30:47.334Z"
   },
   {
    "duration": 8,
    "start_time": "2024-12-20T17:31:08.871Z"
   },
   {
    "duration": 5370,
    "start_time": "2024-12-20T17:32:30.139Z"
   },
   {
    "duration": 1481,
    "start_time": "2024-12-20T17:32:35.511Z"
   },
   {
    "duration": 13,
    "start_time": "2024-12-20T17:32:36.993Z"
   },
   {
    "duration": 882,
    "start_time": "2024-12-20T17:32:37.011Z"
   },
   {
    "duration": 35677,
    "start_time": "2024-12-20T17:32:37.895Z"
   },
   {
    "duration": 29,
    "start_time": "2024-12-20T17:33:13.573Z"
   },
   {
    "duration": 10548,
    "start_time": "2024-12-20T17:33:13.612Z"
   },
   {
    "duration": 72776,
    "start_time": "2024-12-20T17:33:24.161Z"
   },
   {
    "duration": 41692,
    "start_time": "2024-12-20T17:34:36.939Z"
   },
   {
    "duration": 48501,
    "start_time": "2024-12-20T17:35:18.633Z"
   },
   {
    "duration": 1049,
    "start_time": "2024-12-20T17:36:07.135Z"
   },
   {
    "duration": 27554,
    "start_time": "2024-12-20T17:36:08.185Z"
   },
   {
    "duration": 23542,
    "start_time": "2024-12-20T17:36:35.741Z"
   },
   {
    "duration": 9,
    "start_time": "2024-12-20T17:36:59.286Z"
   },
   {
    "duration": 151,
    "start_time": "2024-12-20T17:49:40.567Z"
   },
   {
    "duration": 4,
    "start_time": "2024-12-20T18:01:02.086Z"
   },
   {
    "duration": 10,
    "start_time": "2024-12-20T18:01:03.819Z"
   },
   {
    "duration": 5466,
    "start_time": "2024-12-20T18:02:23.364Z"
   },
   {
    "duration": 1469,
    "start_time": "2024-12-20T18:02:28.832Z"
   },
   {
    "duration": 18,
    "start_time": "2024-12-20T18:02:30.303Z"
   },
   {
    "duration": 893,
    "start_time": "2024-12-20T18:02:30.322Z"
   },
   {
    "duration": 36290,
    "start_time": "2024-12-20T18:02:31.217Z"
   },
   {
    "duration": 32,
    "start_time": "2024-12-20T18:03:07.511Z"
   },
   {
    "duration": 10543,
    "start_time": "2024-12-20T18:03:07.545Z"
   },
   {
    "duration": 72927,
    "start_time": "2024-12-20T18:03:18.090Z"
   },
   {
    "duration": 43112,
    "start_time": "2024-12-20T18:04:31.019Z"
   },
   {
    "duration": 48601,
    "start_time": "2024-12-20T18:05:14.132Z"
   },
   {
    "duration": 1033,
    "start_time": "2024-12-20T18:06:02.735Z"
   },
   {
    "duration": 35767,
    "start_time": "2024-12-20T18:06:03.769Z"
   },
   {
    "duration": 25643,
    "start_time": "2024-12-20T18:06:39.538Z"
   },
   {
    "duration": 9,
    "start_time": "2024-12-20T18:07:05.184Z"
   },
   {
    "duration": 23,
    "start_time": "2024-12-20T18:07:05.195Z"
   },
   {
    "duration": 156,
    "start_time": "2024-12-20T18:07:05.220Z"
   },
   {
    "duration": 0,
    "start_time": "2024-12-20T18:07:05.377Z"
   },
   {
    "duration": 0,
    "start_time": "2024-12-20T18:07:05.379Z"
   },
   {
    "duration": 183,
    "start_time": "2024-12-20T18:17:01.562Z"
   },
   {
    "duration": 4,
    "start_time": "2024-12-20T18:17:11.518Z"
   },
   {
    "duration": 164,
    "start_time": "2024-12-20T18:17:13.694Z"
   },
   {
    "duration": 229150,
    "start_time": "2024-12-20T18:17:50.465Z"
   },
   {
    "duration": 34,
    "start_time": "2024-12-20T18:22:06.231Z"
   },
   {
    "duration": 229733,
    "start_time": "2024-12-20T18:22:40.985Z"
   },
   {
    "duration": 5338,
    "start_time": "2024-12-20T18:40:06.115Z"
   },
   {
    "duration": 1507,
    "start_time": "2024-12-20T18:40:11.455Z"
   },
   {
    "duration": 15,
    "start_time": "2024-12-20T18:40:12.964Z"
   },
   {
    "duration": 847,
    "start_time": "2024-12-20T18:40:12.980Z"
   },
   {
    "duration": 72328,
    "start_time": "2024-12-20T18:40:13.828Z"
   },
   {
    "duration": 35822,
    "start_time": "2024-12-20T18:41:26.158Z"
   },
   {
    "duration": 44,
    "start_time": "2024-12-20T18:42:01.983Z"
   },
   {
    "duration": 11002,
    "start_time": "2024-12-20T18:42:02.029Z"
   },
   {
    "duration": 72196,
    "start_time": "2024-12-20T18:42:13.032Z"
   },
   {
    "duration": 42295,
    "start_time": "2024-12-20T18:43:25.231Z"
   },
   {
    "duration": 49184,
    "start_time": "2024-12-20T18:44:07.528Z"
   },
   {
    "duration": 1099,
    "start_time": "2024-12-20T18:44:56.714Z"
   },
   {
    "duration": 31625,
    "start_time": "2024-12-20T18:44:57.815Z"
   },
   {
    "duration": 10289,
    "start_time": "2024-12-20T18:45:29.442Z"
   },
   {
    "duration": 0,
    "start_time": "2024-12-20T18:45:39.733Z"
   },
   {
    "duration": 0,
    "start_time": "2024-12-20T18:45:39.734Z"
   },
   {
    "duration": 0,
    "start_time": "2024-12-20T18:45:39.735Z"
   },
   {
    "duration": 0,
    "start_time": "2024-12-20T18:45:39.736Z"
   },
   {
    "duration": 0,
    "start_time": "2024-12-20T18:45:39.737Z"
   },
   {
    "duration": 10236,
    "start_time": "2024-12-20T18:51:40.417Z"
   },
   {
    "duration": 5,
    "start_time": "2024-12-20T18:52:36.208Z"
   },
   {
    "duration": 23998,
    "start_time": "2024-12-20T18:52:42.843Z"
   },
   {
    "duration": 5324,
    "start_time": "2024-12-20T18:54:09.532Z"
   },
   {
    "duration": 1440,
    "start_time": "2024-12-20T18:54:14.859Z"
   },
   {
    "duration": 20,
    "start_time": "2024-12-20T18:54:16.300Z"
   },
   {
    "duration": 864,
    "start_time": "2024-12-20T18:54:16.322Z"
   },
   {
    "duration": 70830,
    "start_time": "2024-12-20T18:54:17.188Z"
   },
   {
    "duration": 35729,
    "start_time": "2024-12-20T18:55:28.020Z"
   },
   {
    "duration": 31,
    "start_time": "2024-12-20T18:56:03.752Z"
   },
   {
    "duration": 11045,
    "start_time": "2024-12-20T18:56:03.785Z"
   },
   {
    "duration": 70896,
    "start_time": "2024-12-20T18:56:14.832Z"
   },
   {
    "duration": 42506,
    "start_time": "2024-12-20T18:57:25.731Z"
   },
   {
    "duration": 49477,
    "start_time": "2024-12-20T18:58:08.239Z"
   },
   {
    "duration": 1103,
    "start_time": "2024-12-20T18:58:57.718Z"
   },
   {
    "duration": 30302,
    "start_time": "2024-12-20T18:58:58.823Z"
   },
   {
    "duration": 21844,
    "start_time": "2024-12-20T18:59:29.127Z"
   },
   {
    "duration": 7,
    "start_time": "2024-12-20T18:59:50.973Z"
   },
   {
    "duration": 38,
    "start_time": "2024-12-20T18:59:50.981Z"
   },
   {
    "duration": 139,
    "start_time": "2024-12-20T18:59:51.020Z"
   },
   {
    "duration": 0,
    "start_time": "2024-12-20T18:59:51.160Z"
   },
   {
    "duration": 0,
    "start_time": "2024-12-20T18:59:51.161Z"
   },
   {
    "duration": 5,
    "start_time": "2024-12-20T19:01:12.473Z"
   },
   {
    "duration": 5362,
    "start_time": "2024-12-20T19:02:52.425Z"
   },
   {
    "duration": 1522,
    "start_time": "2024-12-20T19:02:57.790Z"
   },
   {
    "duration": 14,
    "start_time": "2024-12-20T19:02:59.314Z"
   },
   {
    "duration": 887,
    "start_time": "2024-12-20T19:02:59.330Z"
   },
   {
    "duration": 72156,
    "start_time": "2024-12-20T19:03:00.219Z"
   },
   {
    "duration": 35591,
    "start_time": "2024-12-20T19:04:12.377Z"
   },
   {
    "duration": 46,
    "start_time": "2024-12-20T19:04:47.972Z"
   },
   {
    "duration": 11129,
    "start_time": "2024-12-20T19:04:48.020Z"
   },
   {
    "duration": 69485,
    "start_time": "2024-12-20T19:04:59.150Z"
   },
   {
    "duration": 43095,
    "start_time": "2024-12-20T19:06:08.637Z"
   },
   {
    "duration": 46686,
    "start_time": "2024-12-20T19:06:51.734Z"
   },
   {
    "duration": 1115,
    "start_time": "2024-12-20T19:07:38.422Z"
   },
   {
    "duration": 32591,
    "start_time": "2024-12-20T19:07:39.539Z"
   },
   {
    "duration": 21951,
    "start_time": "2024-12-20T19:08:12.131Z"
   },
   {
    "duration": 7,
    "start_time": "2024-12-20T19:08:34.084Z"
   },
   {
    "duration": 38,
    "start_time": "2024-12-20T19:08:34.092Z"
   },
   {
    "duration": 180983,
    "start_time": "2024-12-20T19:08:34.132Z"
   },
   {
    "duration": 842589,
    "start_time": "2024-12-20T19:11:35.117Z"
   },
   {
    "duration": 23054,
    "start_time": "2024-12-22T13:14:37.271Z"
   },
   {
    "duration": 1777,
    "start_time": "2024-12-22T13:15:00.329Z"
   },
   {
    "duration": 14,
    "start_time": "2024-12-22T13:15:02.107Z"
   },
   {
    "duration": 1314,
    "start_time": "2024-12-22T13:15:02.123Z"
   },
   {
    "duration": 77259,
    "start_time": "2024-12-22T13:15:03.438Z"
   },
   {
    "duration": 3350,
    "start_time": "2024-12-22T13:16:20.699Z"
   },
   {
    "duration": 79,
    "start_time": "2024-12-22T13:16:24.051Z"
   },
   {
    "duration": 0,
    "start_time": "2024-12-22T13:16:24.132Z"
   },
   {
    "duration": 0,
    "start_time": "2024-12-22T13:16:24.134Z"
   },
   {
    "duration": 0,
    "start_time": "2024-12-22T13:16:24.135Z"
   },
   {
    "duration": 0,
    "start_time": "2024-12-22T13:16:24.136Z"
   },
   {
    "duration": 0,
    "start_time": "2024-12-22T13:16:24.137Z"
   },
   {
    "duration": 0,
    "start_time": "2024-12-22T13:16:24.138Z"
   },
   {
    "duration": 0,
    "start_time": "2024-12-22T13:16:24.139Z"
   },
   {
    "duration": 0,
    "start_time": "2024-12-22T13:16:24.140Z"
   },
   {
    "duration": 0,
    "start_time": "2024-12-22T13:16:24.141Z"
   },
   {
    "duration": 0,
    "start_time": "2024-12-22T13:16:24.143Z"
   },
   {
    "duration": 0,
    "start_time": "2024-12-22T13:16:24.144Z"
   },
   {
    "duration": 0,
    "start_time": "2024-12-22T13:16:24.145Z"
   },
   {
    "duration": 14498,
    "start_time": "2024-12-22T13:21:24.014Z"
   },
   {
    "duration": 3954,
    "start_time": "2024-12-22T13:21:38.514Z"
   },
   {
    "duration": 17,
    "start_time": "2024-12-22T13:21:42.469Z"
   },
   {
    "duration": 847,
    "start_time": "2024-12-22T13:21:42.488Z"
   },
   {
    "duration": 70160,
    "start_time": "2024-12-22T13:21:43.336Z"
   },
   {
    "duration": 459,
    "start_time": "2024-12-22T13:22:53.498Z"
   },
   {
    "duration": 14306,
    "start_time": "2024-12-22T13:45:33.608Z"
   },
   {
    "duration": 4007,
    "start_time": "2024-12-22T13:45:47.916Z"
   },
   {
    "duration": 16,
    "start_time": "2024-12-22T13:45:51.925Z"
   },
   {
    "duration": 896,
    "start_time": "2024-12-22T13:45:51.942Z"
   },
   {
    "duration": 70510,
    "start_time": "2024-12-22T13:45:52.841Z"
   },
   {
    "duration": 474,
    "start_time": "2024-12-22T13:47:03.352Z"
   },
   {
    "duration": 14851,
    "start_time": "2024-12-22T13:49:54.693Z"
   },
   {
    "duration": 4077,
    "start_time": "2024-12-22T13:50:09.546Z"
   },
   {
    "duration": 17,
    "start_time": "2024-12-22T13:50:13.625Z"
   },
   {
    "duration": 851,
    "start_time": "2024-12-22T13:50:13.644Z"
   },
   {
    "duration": 71674,
    "start_time": "2024-12-22T13:50:14.497Z"
   },
   {
    "duration": 466,
    "start_time": "2024-12-22T13:51:26.172Z"
   },
   {
    "duration": 15063,
    "start_time": "2024-12-22T14:20:48.331Z"
   },
   {
    "duration": 4076,
    "start_time": "2024-12-22T14:21:03.396Z"
   },
   {
    "duration": 20,
    "start_time": "2024-12-22T14:21:07.475Z"
   },
   {
    "duration": 916,
    "start_time": "2024-12-22T14:21:07.498Z"
   },
   {
    "duration": 73251,
    "start_time": "2024-12-22T14:21:08.415Z"
   },
   {
    "duration": 492,
    "start_time": "2024-12-22T14:22:21.668Z"
   },
   {
    "duration": 2314382,
    "start_time": "2024-12-22T14:22:22.162Z"
   },
   {
    "duration": 1441,
    "start_time": "2024-12-22T15:00:56.546Z"
   },
   {
    "duration": 6948,
    "start_time": "2024-12-22T15:00:57.989Z"
   },
   {
    "duration": 559,
    "start_time": "2024-12-22T15:01:04.939Z"
   },
   {
    "duration": 0,
    "start_time": "2024-12-22T15:01:05.500Z"
   },
   {
    "duration": 0,
    "start_time": "2024-12-22T15:01:05.501Z"
   },
   {
    "duration": 0,
    "start_time": "2024-12-22T15:01:05.503Z"
   },
   {
    "duration": 1,
    "start_time": "2024-12-22T15:01:05.504Z"
   },
   {
    "duration": 0,
    "start_time": "2024-12-22T15:01:05.522Z"
   },
   {
    "duration": 0,
    "start_time": "2024-12-22T15:01:05.523Z"
   },
   {
    "duration": 0,
    "start_time": "2024-12-22T15:01:05.524Z"
   },
   {
    "duration": 0,
    "start_time": "2024-12-22T15:01:05.526Z"
   },
   {
    "duration": 1,
    "start_time": "2024-12-22T15:01:05.527Z"
   },
   {
    "duration": 0,
    "start_time": "2024-12-22T15:01:05.529Z"
   },
   {
    "duration": 1653,
    "start_time": "2024-12-22T15:10:44.723Z"
   },
   {
    "duration": 20,
    "start_time": "2024-12-22T15:13:24.626Z"
   },
   {
    "duration": 28,
    "start_time": "2024-12-22T15:13:31.519Z"
   },
   {
    "duration": 17528,
    "start_time": "2024-12-22T15:18:56.204Z"
   },
   {
    "duration": 3918,
    "start_time": "2024-12-22T15:19:13.735Z"
   },
   {
    "duration": 15,
    "start_time": "2024-12-22T15:19:17.654Z"
   },
   {
    "duration": 875,
    "start_time": "2024-12-22T15:19:17.670Z"
   },
   {
    "duration": 70374,
    "start_time": "2024-12-22T15:19:18.547Z"
   },
   {
    "duration": 476,
    "start_time": "2024-12-22T15:20:28.923Z"
   },
   {
    "duration": 2,
    "start_time": "2024-12-22T15:20:29.400Z"
   },
   {
    "duration": 2831,
    "start_time": "2024-12-22T15:20:29.404Z"
   },
   {
    "duration": 47,
    "start_time": "2024-12-22T15:20:32.236Z"
   },
   {
    "duration": 6798,
    "start_time": "2024-12-22T15:20:32.285Z"
   },
   {
    "duration": 2538,
    "start_time": "2024-12-22T15:20:39.084Z"
   },
   {
    "duration": 0,
    "start_time": "2024-12-22T15:20:41.624Z"
   },
   {
    "duration": 0,
    "start_time": "2024-12-22T15:20:41.625Z"
   },
   {
    "duration": 0,
    "start_time": "2024-12-22T15:20:41.626Z"
   },
   {
    "duration": 0,
    "start_time": "2024-12-22T15:20:41.627Z"
   },
   {
    "duration": 0,
    "start_time": "2024-12-22T15:20:41.628Z"
   },
   {
    "duration": 0,
    "start_time": "2024-12-22T15:20:41.629Z"
   },
   {
    "duration": 0,
    "start_time": "2024-12-22T15:20:41.629Z"
   },
   {
    "duration": 0,
    "start_time": "2024-12-22T15:20:41.630Z"
   },
   {
    "duration": 0,
    "start_time": "2024-12-22T15:20:41.631Z"
   },
   {
    "duration": 0,
    "start_time": "2024-12-22T15:20:41.632Z"
   },
   {
    "duration": 2246,
    "start_time": "2024-12-22T15:24:46.654Z"
   },
   {
    "duration": 84,
    "start_time": "2024-12-22T15:26:58.411Z"
   },
   {
    "duration": 92,
    "start_time": "2024-12-22T15:27:44.065Z"
   },
   {
    "duration": 3,
    "start_time": "2024-12-22T15:28:38.915Z"
   },
   {
    "duration": 9,
    "start_time": "2024-12-22T15:28:46.974Z"
   },
   {
    "duration": 17301,
    "start_time": "2024-12-22T15:28:46.986Z"
   },
   {
    "duration": 343,
    "start_time": "2024-12-22T15:29:04.289Z"
   },
   {
    "duration": 3817,
    "start_time": "2024-12-22T15:29:04.635Z"
   },
   {
    "duration": 14,
    "start_time": "2024-12-22T15:29:08.454Z"
   },
   {
    "duration": 811,
    "start_time": "2024-12-22T15:29:08.469Z"
   },
   {
    "duration": 72306,
    "start_time": "2024-12-22T15:29:09.281Z"
   },
   {
    "duration": 464,
    "start_time": "2024-12-22T15:30:21.588Z"
   },
   {
    "duration": 2,
    "start_time": "2024-12-22T15:30:22.055Z"
   },
   {
    "duration": 1279,
    "start_time": "2024-12-22T15:30:22.060Z"
   },
   {
    "duration": 50,
    "start_time": "2024-12-22T15:30:23.341Z"
   },
   {
    "duration": 7,
    "start_time": "2024-12-22T15:30:30.320Z"
   },
   {
    "duration": 16857,
    "start_time": "2024-12-22T15:30:30.329Z"
   },
   {
    "duration": 4022,
    "start_time": "2024-12-22T15:30:47.189Z"
   },
   {
    "duration": 18,
    "start_time": "2024-12-22T15:30:51.214Z"
   },
   {
    "duration": 837,
    "start_time": "2024-12-22T15:30:51.234Z"
   },
   {
    "duration": 72456,
    "start_time": "2024-12-22T15:30:52.073Z"
   },
   {
    "duration": 466,
    "start_time": "2024-12-22T15:32:04.531Z"
   },
   {
    "duration": 2,
    "start_time": "2024-12-22T15:32:04.999Z"
   },
   {
    "duration": 1230,
    "start_time": "2024-12-22T15:32:05.002Z"
   },
   {
    "duration": 58,
    "start_time": "2024-12-22T15:32:06.235Z"
   },
   {
    "duration": 7014,
    "start_time": "2024-12-22T15:32:06.295Z"
   },
   {
    "duration": 2539,
    "start_time": "2024-12-22T15:32:13.311Z"
   },
   {
    "duration": 0,
    "start_time": "2024-12-22T15:32:15.852Z"
   },
   {
    "duration": 0,
    "start_time": "2024-12-22T15:32:15.853Z"
   },
   {
    "duration": 0,
    "start_time": "2024-12-22T15:32:15.854Z"
   },
   {
    "duration": 0,
    "start_time": "2024-12-22T15:32:15.855Z"
   },
   {
    "duration": 0,
    "start_time": "2024-12-22T15:32:15.856Z"
   },
   {
    "duration": 0,
    "start_time": "2024-12-22T15:32:15.857Z"
   },
   {
    "duration": 0,
    "start_time": "2024-12-22T15:32:15.858Z"
   },
   {
    "duration": 0,
    "start_time": "2024-12-22T15:32:15.859Z"
   },
   {
    "duration": 0,
    "start_time": "2024-12-22T15:32:15.860Z"
   },
   {
    "duration": 0,
    "start_time": "2024-12-22T15:32:15.861Z"
   },
   {
    "duration": 51135,
    "start_time": "2024-12-22T15:33:56.382Z"
   },
   {
    "duration": 4034,
    "start_time": "2024-12-22T15:34:47.519Z"
   },
   {
    "duration": 15,
    "start_time": "2024-12-22T15:34:51.554Z"
   },
   {
    "duration": 896,
    "start_time": "2024-12-22T15:34:51.571Z"
   },
   {
    "duration": 71349,
    "start_time": "2024-12-22T15:34:52.469Z"
   },
   {
    "duration": 479,
    "start_time": "2024-12-22T15:36:03.822Z"
   },
   {
    "duration": 2,
    "start_time": "2024-12-22T15:36:04.303Z"
   },
   {
    "duration": 1281,
    "start_time": "2024-12-22T15:36:04.307Z"
   },
   {
    "duration": 53,
    "start_time": "2024-12-22T15:36:05.589Z"
   },
   {
    "duration": 6933,
    "start_time": "2024-12-22T15:36:05.644Z"
   },
   {
    "duration": 405,
    "start_time": "2024-12-22T15:36:12.578Z"
   },
   {
    "duration": 0,
    "start_time": "2024-12-22T15:36:12.985Z"
   },
   {
    "duration": 0,
    "start_time": "2024-12-22T15:36:12.986Z"
   },
   {
    "duration": 0,
    "start_time": "2024-12-22T15:36:12.987Z"
   },
   {
    "duration": 0,
    "start_time": "2024-12-22T15:36:12.988Z"
   },
   {
    "duration": 0,
    "start_time": "2024-12-22T15:36:12.989Z"
   },
   {
    "duration": 0,
    "start_time": "2024-12-22T15:36:12.990Z"
   },
   {
    "duration": 0,
    "start_time": "2024-12-22T15:36:12.991Z"
   },
   {
    "duration": 0,
    "start_time": "2024-12-22T15:36:12.992Z"
   },
   {
    "duration": 1,
    "start_time": "2024-12-22T15:36:12.993Z"
   },
   {
    "duration": 0,
    "start_time": "2024-12-22T15:36:12.995Z"
   },
   {
    "duration": 4,
    "start_time": "2024-12-22T15:40:35.548Z"
   },
   {
    "duration": 4188,
    "start_time": "2024-12-22T15:40:35.553Z"
   },
   {
    "duration": 15,
    "start_time": "2024-12-22T15:40:39.742Z"
   },
   {
    "duration": 869,
    "start_time": "2024-12-22T15:40:39.759Z"
   },
   {
    "duration": 72150,
    "start_time": "2024-12-22T15:40:40.631Z"
   },
   {
    "duration": 2509,
    "start_time": "2024-12-22T15:41:52.783Z"
   },
   {
    "duration": 0,
    "start_time": "2024-12-22T15:41:55.294Z"
   },
   {
    "duration": 0,
    "start_time": "2024-12-22T15:41:55.295Z"
   },
   {
    "duration": 0,
    "start_time": "2024-12-22T15:41:55.296Z"
   },
   {
    "duration": 0,
    "start_time": "2024-12-22T15:41:55.298Z"
   },
   {
    "duration": 0,
    "start_time": "2024-12-22T15:41:55.299Z"
   },
   {
    "duration": 0,
    "start_time": "2024-12-22T15:41:55.300Z"
   },
   {
    "duration": 0,
    "start_time": "2024-12-22T15:41:55.301Z"
   },
   {
    "duration": 0,
    "start_time": "2024-12-22T15:41:55.303Z"
   },
   {
    "duration": 0,
    "start_time": "2024-12-22T15:41:55.321Z"
   },
   {
    "duration": 0,
    "start_time": "2024-12-22T15:41:55.322Z"
   },
   {
    "duration": 0,
    "start_time": "2024-12-22T15:41:55.323Z"
   },
   {
    "duration": 0,
    "start_time": "2024-12-22T15:41:55.324Z"
   },
   {
    "duration": 1,
    "start_time": "2024-12-22T15:41:55.325Z"
   },
   {
    "duration": 0,
    "start_time": "2024-12-22T15:41:55.327Z"
   },
   {
    "duration": 0,
    "start_time": "2024-12-22T15:41:55.328Z"
   },
   {
    "duration": 3,
    "start_time": "2024-12-22T15:42:51.591Z"
   },
   {
    "duration": 4060,
    "start_time": "2024-12-22T15:42:51.596Z"
   },
   {
    "duration": 15,
    "start_time": "2024-12-22T15:42:55.658Z"
   },
   {
    "duration": 833,
    "start_time": "2024-12-22T15:42:55.674Z"
   },
   {
    "duration": 72212,
    "start_time": "2024-12-22T15:42:56.509Z"
   },
   {
    "duration": 481,
    "start_time": "2024-12-22T15:44:08.723Z"
   },
   {
    "duration": 3,
    "start_time": "2024-12-22T15:44:09.205Z"
   },
   {
    "duration": 1183,
    "start_time": "2024-12-22T15:44:09.209Z"
   },
   {
    "duration": 58,
    "start_time": "2024-12-22T15:44:10.394Z"
   },
   {
    "duration": 6907,
    "start_time": "2024-12-22T15:44:10.453Z"
   },
   {
    "duration": 408,
    "start_time": "2024-12-22T15:44:17.362Z"
   },
   {
    "duration": 0,
    "start_time": "2024-12-22T15:44:17.772Z"
   },
   {
    "duration": 0,
    "start_time": "2024-12-22T15:44:17.773Z"
   },
   {
    "duration": 0,
    "start_time": "2024-12-22T15:44:17.774Z"
   },
   {
    "duration": 0,
    "start_time": "2024-12-22T15:44:17.775Z"
   },
   {
    "duration": 0,
    "start_time": "2024-12-22T15:44:17.776Z"
   },
   {
    "duration": 0,
    "start_time": "2024-12-22T15:44:17.777Z"
   },
   {
    "duration": 0,
    "start_time": "2024-12-22T15:44:17.778Z"
   },
   {
    "duration": 0,
    "start_time": "2024-12-22T15:44:17.779Z"
   },
   {
    "duration": 0,
    "start_time": "2024-12-22T15:44:17.780Z"
   },
   {
    "duration": 4,
    "start_time": "2024-12-22T16:14:26.312Z"
   },
   {
    "duration": 4078,
    "start_time": "2024-12-22T16:14:26.318Z"
   },
   {
    "duration": 16,
    "start_time": "2024-12-22T16:14:30.398Z"
   },
   {
    "duration": 1002,
    "start_time": "2024-12-22T16:14:30.422Z"
   },
   {
    "duration": 3,
    "start_time": "2024-12-22T16:15:21.778Z"
   },
   {
    "duration": 4093,
    "start_time": "2024-12-22T16:15:21.783Z"
   },
   {
    "duration": 17,
    "start_time": "2024-12-22T16:15:25.878Z"
   },
   {
    "duration": 853,
    "start_time": "2024-12-22T16:15:25.896Z"
   },
   {
    "duration": 74104,
    "start_time": "2024-12-22T16:15:26.751Z"
   },
   {
    "duration": 502,
    "start_time": "2024-12-22T16:16:40.857Z"
   },
   {
    "duration": 2,
    "start_time": "2024-12-22T16:16:41.360Z"
   },
   {
    "duration": 1382,
    "start_time": "2024-12-22T16:16:41.363Z"
   },
   {
    "duration": 44,
    "start_time": "2024-12-22T16:16:42.747Z"
   },
   {
    "duration": 7011,
    "start_time": "2024-12-22T16:16:42.793Z"
   },
   {
    "duration": 430,
    "start_time": "2024-12-22T16:16:49.806Z"
   },
   {
    "duration": 0,
    "start_time": "2024-12-22T16:16:50.238Z"
   },
   {
    "duration": 0,
    "start_time": "2024-12-22T16:16:50.239Z"
   },
   {
    "duration": 0,
    "start_time": "2024-12-22T16:16:50.240Z"
   },
   {
    "duration": 0,
    "start_time": "2024-12-22T16:16:50.241Z"
   },
   {
    "duration": 0,
    "start_time": "2024-12-22T16:16:50.242Z"
   },
   {
    "duration": 0,
    "start_time": "2024-12-22T16:16:50.244Z"
   },
   {
    "duration": 0,
    "start_time": "2024-12-22T16:16:50.245Z"
   },
   {
    "duration": 0,
    "start_time": "2024-12-22T16:16:50.246Z"
   },
   {
    "duration": 0,
    "start_time": "2024-12-22T16:16:50.247Z"
   },
   {
    "duration": 56696,
    "start_time": "2024-12-22T16:18:40.274Z"
   },
   {
    "duration": 95,
    "start_time": "2024-12-22T16:20:12.220Z"
   },
   {
    "duration": 7342,
    "start_time": "2024-12-22T16:20:21.375Z"
   },
   {
    "duration": 79571,
    "start_time": "2024-12-22T16:20:31.564Z"
   },
   {
    "duration": 3,
    "start_time": "2024-12-22T16:22:00.214Z"
   },
   {
    "duration": 4212,
    "start_time": "2024-12-22T16:22:00.230Z"
   },
   {
    "duration": 15,
    "start_time": "2024-12-22T16:22:04.444Z"
   },
   {
    "duration": 965,
    "start_time": "2024-12-22T16:22:04.461Z"
   },
   {
    "duration": 73325,
    "start_time": "2024-12-22T16:22:05.428Z"
   },
   {
    "duration": 484,
    "start_time": "2024-12-22T16:23:18.755Z"
   },
   {
    "duration": 2,
    "start_time": "2024-12-22T16:23:19.241Z"
   },
   {
    "duration": 1349,
    "start_time": "2024-12-22T16:23:19.245Z"
   },
   {
    "duration": 51,
    "start_time": "2024-12-22T16:23:20.596Z"
   },
   {
    "duration": 6962,
    "start_time": "2024-12-22T16:23:20.648Z"
   },
   {
    "duration": 80822,
    "start_time": "2024-12-22T16:23:27.612Z"
   },
   {
    "duration": 46708,
    "start_time": "2024-12-22T16:24:48.435Z"
   },
   {
    "duration": 58790,
    "start_time": "2024-12-22T16:25:35.145Z"
   },
   {
    "duration": 1149,
    "start_time": "2024-12-22T16:26:33.936Z"
   },
   {
    "duration": 38877,
    "start_time": "2024-12-22T16:26:35.087Z"
   },
   {
    "duration": 31812,
    "start_time": "2024-12-22T16:27:13.966Z"
   },
   {
    "duration": 7,
    "start_time": "2024-12-22T16:27:45.780Z"
   },
   {
    "duration": 11,
    "start_time": "2024-12-22T16:27:45.789Z"
   },
   {
    "duration": 233722,
    "start_time": "2024-12-22T16:27:45.801Z"
   },
   {
    "duration": 734854,
    "start_time": "2024-12-22T16:31:39.525Z"
   },
   {
    "duration": 329,
    "start_time": "2024-12-22T16:50:40.466Z"
   },
   {
    "duration": 17,
    "start_time": "2024-12-22T16:52:57.512Z"
   },
   {
    "duration": 19,
    "start_time": "2024-12-22T16:53:01.849Z"
   },
   {
    "duration": 20,
    "start_time": "2024-12-22T16:55:03.148Z"
   },
   {
    "duration": 20,
    "start_time": "2024-12-22T16:55:38.630Z"
   },
   {
    "duration": 22,
    "start_time": "2024-12-22T17:00:14.937Z"
   },
   {
    "duration": 366,
    "start_time": "2024-12-22T17:02:11.401Z"
   },
   {
    "duration": 1585,
    "start_time": "2024-12-22T17:03:30.580Z"
   },
   {
    "duration": 787,
    "start_time": "2024-12-22T17:04:15.487Z"
   },
   {
    "duration": 2322,
    "start_time": "2024-12-22T17:04:22.247Z"
   },
   {
    "duration": 2358,
    "start_time": "2024-12-22T17:05:59.722Z"
   }
  ],
  "kernelspec": {
   "display_name": "Python 3 (ipykernel)",
   "language": "python",
   "name": "python3"
  },
  "language_info": {
   "codemirror_mode": {
    "name": "ipython",
    "version": 3
   },
   "file_extension": ".py",
   "mimetype": "text/x-python",
   "name": "python",
   "nbconvert_exporter": "python",
   "pygments_lexer": "ipython3",
   "version": "3.12.4"
  },
  "toc": {
   "base_numbering": 1,
   "nav_menu": {},
   "number_sections": true,
   "sideBar": true,
   "skip_h1_title": true,
   "title_cell": "Содержание",
   "title_sidebar": "Contents",
   "toc_cell": true,
   "toc_position": {
    "height": "calc(100% - 180px)",
    "left": "10px",
    "top": "150px",
    "width": "302.391px"
   },
   "toc_section_display": true,
   "toc_window_display": false
  }
 },
 "nbformat": 4,
 "nbformat_minor": 4
}
